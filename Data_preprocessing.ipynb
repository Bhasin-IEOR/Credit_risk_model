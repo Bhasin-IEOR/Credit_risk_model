{
  "nbformat": 4,
  "nbformat_minor": 0,
  "metadata": {
    "colab": {
      "name": "Data_preprocessing.ipynb",
      "provenance": [],
      "collapsed_sections": []
    },
    "kernelspec": {
      "name": "python3",
      "display_name": "Python 3"
    },
    "language_info": {
      "name": "python"
    }
  },
  "cells": [
    {
      "cell_type": "code",
      "metadata": {
        "id": "k75sOvHeUwUK"
      },
      "source": [
        "import numpy as np\n",
        "import pandas as pd\n",
        "import seaborn as sns\n",
        "import glob\n",
        "import matplotlib.pyplot as plt\n",
        "from zipfile import ZipFile"
      ],
      "execution_count": 1,
      "outputs": []
    },
    {
      "cell_type": "code",
      "metadata": {
        "colab": {
          "base_uri": "https://localhost:8080/"
        },
        "id": "Tq6BS857U1QM",
        "outputId": "033d00c2-656d-4c9e-8aea-cc382aef42d1"
      },
      "source": [
        "from google.colab import drive\n",
        "drive.mount(\"/content/drive/\" , force_remount = True)"
      ],
      "execution_count": 2,
      "outputs": [
        {
          "output_type": "stream",
          "text": [
            "Mounted at /content/drive/\n"
          ],
          "name": "stdout"
        }
      ]
    },
    {
      "cell_type": "markdown",
      "metadata": {
        "id": "7a9IXkU7D9sF"
      },
      "source": [
        "#Loading Dataset"
      ]
    },
    {
      "cell_type": "code",
      "metadata": {
        "colab": {
          "base_uri": "https://localhost:8080/"
        },
        "id": "PYMpQ_rTbt79",
        "outputId": "219c698e-c3bf-4377-c24f-f63b33e50904"
      },
      "source": [
        "file_name1 = '/content/drive/MyDrive/Self_Project/loan_data_2007_2014.csv.zip'\n",
        "with ZipFile(file_name1,'r') as zip:\n",
        "  zip.extractall(\"/content/data1\")\n",
        "  print('Extracted files at location /content/data1 ')\n"
      ],
      "execution_count": 3,
      "outputs": [
        {
          "output_type": "stream",
          "text": [
            "Extracted files at location /content/data1 \n"
          ],
          "name": "stdout"
        }
      ]
    },
    {
      "cell_type": "code",
      "metadata": {
        "id": "2SuebikC3Zti"
      },
      "source": [
        "#!unzip '/content/drive/MyDrive/Self_Project/loan_data_2007_2014.csv.zip' -d \"/content/data1\""
      ],
      "execution_count": 4,
      "outputs": []
    },
    {
      "cell_type": "code",
      "metadata": {
        "id": "QvbCn0NUclx_"
      },
      "source": [
        "data = pd.read_csv(\"/content/data1/loan_data_2007_2014.csv\" , low_memory = False , index_col = None)"
      ],
      "execution_count": 5,
      "outputs": []
    },
    {
      "cell_type": "code",
      "metadata": {
        "colab": {
          "base_uri": "https://localhost:8080/",
          "height": 677
        },
        "id": "hdIhJIkZcp_z",
        "outputId": "09b1f184-6887-41cf-dfd9-c6c52727decd"
      },
      "source": [
        "data.head()"
      ],
      "execution_count": 6,
      "outputs": [
        {
          "output_type": "execute_result",
          "data": {
            "text/html": [
              "<div>\n",
              "<style scoped>\n",
              "    .dataframe tbody tr th:only-of-type {\n",
              "        vertical-align: middle;\n",
              "    }\n",
              "\n",
              "    .dataframe tbody tr th {\n",
              "        vertical-align: top;\n",
              "    }\n",
              "\n",
              "    .dataframe thead th {\n",
              "        text-align: right;\n",
              "    }\n",
              "</style>\n",
              "<table border=\"1\" class=\"dataframe\">\n",
              "  <thead>\n",
              "    <tr style=\"text-align: right;\">\n",
              "      <th></th>\n",
              "      <th>Unnamed: 0</th>\n",
              "      <th>id</th>\n",
              "      <th>member_id</th>\n",
              "      <th>loan_amnt</th>\n",
              "      <th>funded_amnt</th>\n",
              "      <th>funded_amnt_inv</th>\n",
              "      <th>term</th>\n",
              "      <th>int_rate</th>\n",
              "      <th>installment</th>\n",
              "      <th>grade</th>\n",
              "      <th>sub_grade</th>\n",
              "      <th>emp_title</th>\n",
              "      <th>emp_length</th>\n",
              "      <th>home_ownership</th>\n",
              "      <th>annual_inc</th>\n",
              "      <th>verification_status</th>\n",
              "      <th>issue_d</th>\n",
              "      <th>loan_status</th>\n",
              "      <th>pymnt_plan</th>\n",
              "      <th>url</th>\n",
              "      <th>desc</th>\n",
              "      <th>purpose</th>\n",
              "      <th>title</th>\n",
              "      <th>zip_code</th>\n",
              "      <th>addr_state</th>\n",
              "      <th>dti</th>\n",
              "      <th>delinq_2yrs</th>\n",
              "      <th>earliest_cr_line</th>\n",
              "      <th>inq_last_6mths</th>\n",
              "      <th>mths_since_last_delinq</th>\n",
              "      <th>mths_since_last_record</th>\n",
              "      <th>open_acc</th>\n",
              "      <th>pub_rec</th>\n",
              "      <th>revol_bal</th>\n",
              "      <th>revol_util</th>\n",
              "      <th>total_acc</th>\n",
              "      <th>initial_list_status</th>\n",
              "      <th>out_prncp</th>\n",
              "      <th>out_prncp_inv</th>\n",
              "      <th>total_pymnt</th>\n",
              "      <th>total_pymnt_inv</th>\n",
              "      <th>total_rec_prncp</th>\n",
              "      <th>total_rec_int</th>\n",
              "      <th>total_rec_late_fee</th>\n",
              "      <th>recoveries</th>\n",
              "      <th>collection_recovery_fee</th>\n",
              "      <th>last_pymnt_d</th>\n",
              "      <th>last_pymnt_amnt</th>\n",
              "      <th>next_pymnt_d</th>\n",
              "      <th>last_credit_pull_d</th>\n",
              "      <th>collections_12_mths_ex_med</th>\n",
              "      <th>mths_since_last_major_derog</th>\n",
              "      <th>policy_code</th>\n",
              "      <th>application_type</th>\n",
              "      <th>annual_inc_joint</th>\n",
              "      <th>dti_joint</th>\n",
              "      <th>verification_status_joint</th>\n",
              "      <th>acc_now_delinq</th>\n",
              "      <th>tot_coll_amt</th>\n",
              "      <th>tot_cur_bal</th>\n",
              "      <th>open_acc_6m</th>\n",
              "      <th>open_il_6m</th>\n",
              "      <th>open_il_12m</th>\n",
              "      <th>open_il_24m</th>\n",
              "      <th>mths_since_rcnt_il</th>\n",
              "      <th>total_bal_il</th>\n",
              "      <th>il_util</th>\n",
              "      <th>open_rv_12m</th>\n",
              "      <th>open_rv_24m</th>\n",
              "      <th>max_bal_bc</th>\n",
              "      <th>all_util</th>\n",
              "      <th>total_rev_hi_lim</th>\n",
              "      <th>inq_fi</th>\n",
              "      <th>total_cu_tl</th>\n",
              "      <th>inq_last_12m</th>\n",
              "    </tr>\n",
              "  </thead>\n",
              "  <tbody>\n",
              "    <tr>\n",
              "      <th>0</th>\n",
              "      <td>0</td>\n",
              "      <td>1077501</td>\n",
              "      <td>1296599</td>\n",
              "      <td>5000</td>\n",
              "      <td>5000</td>\n",
              "      <td>4975.0</td>\n",
              "      <td>36 months</td>\n",
              "      <td>10.65</td>\n",
              "      <td>162.87</td>\n",
              "      <td>B</td>\n",
              "      <td>B2</td>\n",
              "      <td>NaN</td>\n",
              "      <td>10+ years</td>\n",
              "      <td>RENT</td>\n",
              "      <td>24000.0</td>\n",
              "      <td>Verified</td>\n",
              "      <td>Dec-11</td>\n",
              "      <td>Fully Paid</td>\n",
              "      <td>n</td>\n",
              "      <td>https://www.lendingclub.com/browse/loanDetail....</td>\n",
              "      <td>Borrower added on 12/22/11 &gt; I need to upgra...</td>\n",
              "      <td>credit_card</td>\n",
              "      <td>Computer</td>\n",
              "      <td>860xx</td>\n",
              "      <td>AZ</td>\n",
              "      <td>27.65</td>\n",
              "      <td>0.0</td>\n",
              "      <td>Jan-85</td>\n",
              "      <td>1.0</td>\n",
              "      <td>NaN</td>\n",
              "      <td>NaN</td>\n",
              "      <td>3.0</td>\n",
              "      <td>0.0</td>\n",
              "      <td>13648</td>\n",
              "      <td>83.7</td>\n",
              "      <td>9.0</td>\n",
              "      <td>f</td>\n",
              "      <td>0.0</td>\n",
              "      <td>0.0</td>\n",
              "      <td>5861.071414</td>\n",
              "      <td>5831.78</td>\n",
              "      <td>5000.00</td>\n",
              "      <td>861.07</td>\n",
              "      <td>0.00</td>\n",
              "      <td>0.00</td>\n",
              "      <td>0.00</td>\n",
              "      <td>Jan-15</td>\n",
              "      <td>171.62</td>\n",
              "      <td>NaN</td>\n",
              "      <td>Jan-16</td>\n",
              "      <td>0.0</td>\n",
              "      <td>NaN</td>\n",
              "      <td>1</td>\n",
              "      <td>INDIVIDUAL</td>\n",
              "      <td>NaN</td>\n",
              "      <td>NaN</td>\n",
              "      <td>NaN</td>\n",
              "      <td>0.0</td>\n",
              "      <td>NaN</td>\n",
              "      <td>NaN</td>\n",
              "      <td>NaN</td>\n",
              "      <td>NaN</td>\n",
              "      <td>NaN</td>\n",
              "      <td>NaN</td>\n",
              "      <td>NaN</td>\n",
              "      <td>NaN</td>\n",
              "      <td>NaN</td>\n",
              "      <td>NaN</td>\n",
              "      <td>NaN</td>\n",
              "      <td>NaN</td>\n",
              "      <td>NaN</td>\n",
              "      <td>NaN</td>\n",
              "      <td>NaN</td>\n",
              "      <td>NaN</td>\n",
              "      <td>NaN</td>\n",
              "    </tr>\n",
              "    <tr>\n",
              "      <th>1</th>\n",
              "      <td>1</td>\n",
              "      <td>1077430</td>\n",
              "      <td>1314167</td>\n",
              "      <td>2500</td>\n",
              "      <td>2500</td>\n",
              "      <td>2500.0</td>\n",
              "      <td>60 months</td>\n",
              "      <td>15.27</td>\n",
              "      <td>59.83</td>\n",
              "      <td>C</td>\n",
              "      <td>C4</td>\n",
              "      <td>Ryder</td>\n",
              "      <td>&lt; 1 year</td>\n",
              "      <td>RENT</td>\n",
              "      <td>30000.0</td>\n",
              "      <td>Source Verified</td>\n",
              "      <td>Dec-11</td>\n",
              "      <td>Charged Off</td>\n",
              "      <td>n</td>\n",
              "      <td>https://www.lendingclub.com/browse/loanDetail....</td>\n",
              "      <td>Borrower added on 12/22/11 &gt; I plan to use t...</td>\n",
              "      <td>car</td>\n",
              "      <td>bike</td>\n",
              "      <td>309xx</td>\n",
              "      <td>GA</td>\n",
              "      <td>1.00</td>\n",
              "      <td>0.0</td>\n",
              "      <td>Apr-99</td>\n",
              "      <td>5.0</td>\n",
              "      <td>NaN</td>\n",
              "      <td>NaN</td>\n",
              "      <td>3.0</td>\n",
              "      <td>0.0</td>\n",
              "      <td>1687</td>\n",
              "      <td>9.4</td>\n",
              "      <td>4.0</td>\n",
              "      <td>f</td>\n",
              "      <td>0.0</td>\n",
              "      <td>0.0</td>\n",
              "      <td>1008.710000</td>\n",
              "      <td>1008.71</td>\n",
              "      <td>456.46</td>\n",
              "      <td>435.17</td>\n",
              "      <td>0.00</td>\n",
              "      <td>117.08</td>\n",
              "      <td>1.11</td>\n",
              "      <td>Apr-13</td>\n",
              "      <td>119.66</td>\n",
              "      <td>NaN</td>\n",
              "      <td>Sep-13</td>\n",
              "      <td>0.0</td>\n",
              "      <td>NaN</td>\n",
              "      <td>1</td>\n",
              "      <td>INDIVIDUAL</td>\n",
              "      <td>NaN</td>\n",
              "      <td>NaN</td>\n",
              "      <td>NaN</td>\n",
              "      <td>0.0</td>\n",
              "      <td>NaN</td>\n",
              "      <td>NaN</td>\n",
              "      <td>NaN</td>\n",
              "      <td>NaN</td>\n",
              "      <td>NaN</td>\n",
              "      <td>NaN</td>\n",
              "      <td>NaN</td>\n",
              "      <td>NaN</td>\n",
              "      <td>NaN</td>\n",
              "      <td>NaN</td>\n",
              "      <td>NaN</td>\n",
              "      <td>NaN</td>\n",
              "      <td>NaN</td>\n",
              "      <td>NaN</td>\n",
              "      <td>NaN</td>\n",
              "      <td>NaN</td>\n",
              "      <td>NaN</td>\n",
              "    </tr>\n",
              "    <tr>\n",
              "      <th>2</th>\n",
              "      <td>2</td>\n",
              "      <td>1077175</td>\n",
              "      <td>1313524</td>\n",
              "      <td>2400</td>\n",
              "      <td>2400</td>\n",
              "      <td>2400.0</td>\n",
              "      <td>36 months</td>\n",
              "      <td>15.96</td>\n",
              "      <td>84.33</td>\n",
              "      <td>C</td>\n",
              "      <td>C5</td>\n",
              "      <td>NaN</td>\n",
              "      <td>10+ years</td>\n",
              "      <td>RENT</td>\n",
              "      <td>12252.0</td>\n",
              "      <td>Not Verified</td>\n",
              "      <td>Dec-11</td>\n",
              "      <td>Fully Paid</td>\n",
              "      <td>n</td>\n",
              "      <td>https://www.lendingclub.com/browse/loanDetail....</td>\n",
              "      <td>NaN</td>\n",
              "      <td>small_business</td>\n",
              "      <td>real estate business</td>\n",
              "      <td>606xx</td>\n",
              "      <td>IL</td>\n",
              "      <td>8.72</td>\n",
              "      <td>0.0</td>\n",
              "      <td>Nov-01</td>\n",
              "      <td>2.0</td>\n",
              "      <td>NaN</td>\n",
              "      <td>NaN</td>\n",
              "      <td>2.0</td>\n",
              "      <td>0.0</td>\n",
              "      <td>2956</td>\n",
              "      <td>98.5</td>\n",
              "      <td>10.0</td>\n",
              "      <td>f</td>\n",
              "      <td>0.0</td>\n",
              "      <td>0.0</td>\n",
              "      <td>3003.653644</td>\n",
              "      <td>3003.65</td>\n",
              "      <td>2400.00</td>\n",
              "      <td>603.65</td>\n",
              "      <td>0.00</td>\n",
              "      <td>0.00</td>\n",
              "      <td>0.00</td>\n",
              "      <td>Jun-14</td>\n",
              "      <td>649.91</td>\n",
              "      <td>NaN</td>\n",
              "      <td>Jan-16</td>\n",
              "      <td>0.0</td>\n",
              "      <td>NaN</td>\n",
              "      <td>1</td>\n",
              "      <td>INDIVIDUAL</td>\n",
              "      <td>NaN</td>\n",
              "      <td>NaN</td>\n",
              "      <td>NaN</td>\n",
              "      <td>0.0</td>\n",
              "      <td>NaN</td>\n",
              "      <td>NaN</td>\n",
              "      <td>NaN</td>\n",
              "      <td>NaN</td>\n",
              "      <td>NaN</td>\n",
              "      <td>NaN</td>\n",
              "      <td>NaN</td>\n",
              "      <td>NaN</td>\n",
              "      <td>NaN</td>\n",
              "      <td>NaN</td>\n",
              "      <td>NaN</td>\n",
              "      <td>NaN</td>\n",
              "      <td>NaN</td>\n",
              "      <td>NaN</td>\n",
              "      <td>NaN</td>\n",
              "      <td>NaN</td>\n",
              "      <td>NaN</td>\n",
              "    </tr>\n",
              "    <tr>\n",
              "      <th>3</th>\n",
              "      <td>3</td>\n",
              "      <td>1076863</td>\n",
              "      <td>1277178</td>\n",
              "      <td>10000</td>\n",
              "      <td>10000</td>\n",
              "      <td>10000.0</td>\n",
              "      <td>36 months</td>\n",
              "      <td>13.49</td>\n",
              "      <td>339.31</td>\n",
              "      <td>C</td>\n",
              "      <td>C1</td>\n",
              "      <td>AIR RESOURCES BOARD</td>\n",
              "      <td>10+ years</td>\n",
              "      <td>RENT</td>\n",
              "      <td>49200.0</td>\n",
              "      <td>Source Verified</td>\n",
              "      <td>Dec-11</td>\n",
              "      <td>Fully Paid</td>\n",
              "      <td>n</td>\n",
              "      <td>https://www.lendingclub.com/browse/loanDetail....</td>\n",
              "      <td>Borrower added on 12/21/11 &gt; to pay for prop...</td>\n",
              "      <td>other</td>\n",
              "      <td>personel</td>\n",
              "      <td>917xx</td>\n",
              "      <td>CA</td>\n",
              "      <td>20.00</td>\n",
              "      <td>0.0</td>\n",
              "      <td>Feb-96</td>\n",
              "      <td>1.0</td>\n",
              "      <td>35.0</td>\n",
              "      <td>NaN</td>\n",
              "      <td>10.0</td>\n",
              "      <td>0.0</td>\n",
              "      <td>5598</td>\n",
              "      <td>21.0</td>\n",
              "      <td>37.0</td>\n",
              "      <td>f</td>\n",
              "      <td>0.0</td>\n",
              "      <td>0.0</td>\n",
              "      <td>12226.302210</td>\n",
              "      <td>12226.30</td>\n",
              "      <td>10000.00</td>\n",
              "      <td>2209.33</td>\n",
              "      <td>16.97</td>\n",
              "      <td>0.00</td>\n",
              "      <td>0.00</td>\n",
              "      <td>Jan-15</td>\n",
              "      <td>357.48</td>\n",
              "      <td>NaN</td>\n",
              "      <td>Jan-15</td>\n",
              "      <td>0.0</td>\n",
              "      <td>NaN</td>\n",
              "      <td>1</td>\n",
              "      <td>INDIVIDUAL</td>\n",
              "      <td>NaN</td>\n",
              "      <td>NaN</td>\n",
              "      <td>NaN</td>\n",
              "      <td>0.0</td>\n",
              "      <td>NaN</td>\n",
              "      <td>NaN</td>\n",
              "      <td>NaN</td>\n",
              "      <td>NaN</td>\n",
              "      <td>NaN</td>\n",
              "      <td>NaN</td>\n",
              "      <td>NaN</td>\n",
              "      <td>NaN</td>\n",
              "      <td>NaN</td>\n",
              "      <td>NaN</td>\n",
              "      <td>NaN</td>\n",
              "      <td>NaN</td>\n",
              "      <td>NaN</td>\n",
              "      <td>NaN</td>\n",
              "      <td>NaN</td>\n",
              "      <td>NaN</td>\n",
              "      <td>NaN</td>\n",
              "    </tr>\n",
              "    <tr>\n",
              "      <th>4</th>\n",
              "      <td>4</td>\n",
              "      <td>1075358</td>\n",
              "      <td>1311748</td>\n",
              "      <td>3000</td>\n",
              "      <td>3000</td>\n",
              "      <td>3000.0</td>\n",
              "      <td>60 months</td>\n",
              "      <td>12.69</td>\n",
              "      <td>67.79</td>\n",
              "      <td>B</td>\n",
              "      <td>B5</td>\n",
              "      <td>University Medical Group</td>\n",
              "      <td>1 year</td>\n",
              "      <td>RENT</td>\n",
              "      <td>80000.0</td>\n",
              "      <td>Source Verified</td>\n",
              "      <td>Dec-11</td>\n",
              "      <td>Current</td>\n",
              "      <td>n</td>\n",
              "      <td>https://www.lendingclub.com/browse/loanDetail....</td>\n",
              "      <td>Borrower added on 12/21/11 &gt; I plan on combi...</td>\n",
              "      <td>other</td>\n",
              "      <td>Personal</td>\n",
              "      <td>972xx</td>\n",
              "      <td>OR</td>\n",
              "      <td>17.94</td>\n",
              "      <td>0.0</td>\n",
              "      <td>Jan-96</td>\n",
              "      <td>0.0</td>\n",
              "      <td>38.0</td>\n",
              "      <td>NaN</td>\n",
              "      <td>15.0</td>\n",
              "      <td>0.0</td>\n",
              "      <td>27783</td>\n",
              "      <td>53.9</td>\n",
              "      <td>38.0</td>\n",
              "      <td>f</td>\n",
              "      <td>766.9</td>\n",
              "      <td>766.9</td>\n",
              "      <td>3242.170000</td>\n",
              "      <td>3242.17</td>\n",
              "      <td>2233.10</td>\n",
              "      <td>1009.07</td>\n",
              "      <td>0.00</td>\n",
              "      <td>0.00</td>\n",
              "      <td>0.00</td>\n",
              "      <td>Jan-16</td>\n",
              "      <td>67.79</td>\n",
              "      <td>Feb-16</td>\n",
              "      <td>Jan-16</td>\n",
              "      <td>0.0</td>\n",
              "      <td>NaN</td>\n",
              "      <td>1</td>\n",
              "      <td>INDIVIDUAL</td>\n",
              "      <td>NaN</td>\n",
              "      <td>NaN</td>\n",
              "      <td>NaN</td>\n",
              "      <td>0.0</td>\n",
              "      <td>NaN</td>\n",
              "      <td>NaN</td>\n",
              "      <td>NaN</td>\n",
              "      <td>NaN</td>\n",
              "      <td>NaN</td>\n",
              "      <td>NaN</td>\n",
              "      <td>NaN</td>\n",
              "      <td>NaN</td>\n",
              "      <td>NaN</td>\n",
              "      <td>NaN</td>\n",
              "      <td>NaN</td>\n",
              "      <td>NaN</td>\n",
              "      <td>NaN</td>\n",
              "      <td>NaN</td>\n",
              "      <td>NaN</td>\n",
              "      <td>NaN</td>\n",
              "      <td>NaN</td>\n",
              "    </tr>\n",
              "  </tbody>\n",
              "</table>\n",
              "</div>"
            ],
            "text/plain": [
              "   Unnamed: 0       id  member_id  ...  inq_fi  total_cu_tl  inq_last_12m\n",
              "0           0  1077501    1296599  ...     NaN          NaN           NaN\n",
              "1           1  1077430    1314167  ...     NaN          NaN           NaN\n",
              "2           2  1077175    1313524  ...     NaN          NaN           NaN\n",
              "3           3  1076863    1277178  ...     NaN          NaN           NaN\n",
              "4           4  1075358    1311748  ...     NaN          NaN           NaN\n",
              "\n",
              "[5 rows x 75 columns]"
            ]
          },
          "metadata": {
            "tags": []
          },
          "execution_count": 6
        }
      ]
    },
    {
      "cell_type": "markdown",
      "metadata": {
        "id": "MGH9PjerEFgA"
      },
      "source": [
        "#Data Visualization and Pre-Processing"
      ]
    },
    {
      "cell_type": "code",
      "metadata": {
        "colab": {
          "base_uri": "https://localhost:8080/"
        },
        "id": "5B6CFBf1tOJC",
        "outputId": "ec9b3f52-232e-4f85-8a84-db35c19ac696"
      },
      "source": [
        "print(\"Shape of the dataset \" , data.shape)\n",
        "print(\"No. of rows/Customers in the dataset =\" , data.shape[0])\n",
        "print(\"No. of columns in the dataset =\" , data.shape[1])"
      ],
      "execution_count": 7,
      "outputs": [
        {
          "output_type": "stream",
          "text": [
            "Shape of the dataset  (466285, 75)\n",
            "No. of rows/Customers in the dataset = 466285\n",
            "No. of columns in the dataset = 75\n"
          ],
          "name": "stdout"
        }
      ]
    },
    {
      "cell_type": "markdown",
      "metadata": {
        "id": "-lJCvORfu11F"
      },
      "source": [
        "$\\text{Checking datatypes of columns}$"
      ]
    },
    {
      "cell_type": "code",
      "metadata": {
        "colab": {
          "base_uri": "https://localhost:8080/"
        },
        "id": "S3ITIhsLtrZE",
        "outputId": "68ac6328-e537-4615-d288-1544ffa378c4"
      },
      "source": [
        "float = 0\n",
        "int = 0\n",
        "object = 0\n",
        "for col in data.columns :\n",
        "  if data[col].dtype == \"float64\" :\n",
        "    float +=1\n",
        "  elif data[col].dtype == \"int64\" :\n",
        "    int += 1\n",
        "  elif data[col].dtype == \"object\" :\n",
        "    object += 1\n",
        "print(f\"Total columns having float64 as datatype= {float} \\nTotal columns having int64 as datatype = {int} \\nTotal columns having object datatype = {object}\")\n"
      ],
      "execution_count": 8,
      "outputs": [
        {
          "output_type": "stream",
          "text": [
            "Total columns having float64 as datatype= 46 \n",
            "Total columns having int64 as datatype = 7 \n",
            "Total columns having object datatype = 22\n"
          ],
          "name": "stdout"
        }
      ]
    },
    {
      "cell_type": "code",
      "metadata": {
        "colab": {
          "base_uri": "https://localhost:8080/"
        },
        "id": "zFfGGvPIeEWn",
        "outputId": "b7897e9e-8dee-450e-f89f-b382b8dabb1c"
      },
      "source": [
        "data.info()"
      ],
      "execution_count": 9,
      "outputs": [
        {
          "output_type": "stream",
          "text": [
            "<class 'pandas.core.frame.DataFrame'>\n",
            "RangeIndex: 466285 entries, 0 to 466284\n",
            "Data columns (total 75 columns):\n",
            " #   Column                       Non-Null Count   Dtype  \n",
            "---  ------                       --------------   -----  \n",
            " 0   Unnamed: 0                   466285 non-null  int64  \n",
            " 1   id                           466285 non-null  int64  \n",
            " 2   member_id                    466285 non-null  int64  \n",
            " 3   loan_amnt                    466285 non-null  int64  \n",
            " 4   funded_amnt                  466285 non-null  int64  \n",
            " 5   funded_amnt_inv              466285 non-null  float64\n",
            " 6   term                         466285 non-null  object \n",
            " 7   int_rate                     466285 non-null  float64\n",
            " 8   installment                  466285 non-null  float64\n",
            " 9   grade                        466285 non-null  object \n",
            " 10  sub_grade                    466285 non-null  object \n",
            " 11  emp_title                    438697 non-null  object \n",
            " 12  emp_length                   445277 non-null  object \n",
            " 13  home_ownership               466285 non-null  object \n",
            " 14  annual_inc                   466281 non-null  float64\n",
            " 15  verification_status          466285 non-null  object \n",
            " 16  issue_d                      466285 non-null  object \n",
            " 17  loan_status                  466285 non-null  object \n",
            " 18  pymnt_plan                   466285 non-null  object \n",
            " 19  url                          466285 non-null  object \n",
            " 20  desc                         125983 non-null  object \n",
            " 21  purpose                      466285 non-null  object \n",
            " 22  title                        466265 non-null  object \n",
            " 23  zip_code                     466285 non-null  object \n",
            " 24  addr_state                   466285 non-null  object \n",
            " 25  dti                          466285 non-null  float64\n",
            " 26  delinq_2yrs                  466256 non-null  float64\n",
            " 27  earliest_cr_line             466256 non-null  object \n",
            " 28  inq_last_6mths               466256 non-null  float64\n",
            " 29  mths_since_last_delinq       215934 non-null  float64\n",
            " 30  mths_since_last_record       62638 non-null   float64\n",
            " 31  open_acc                     466256 non-null  float64\n",
            " 32  pub_rec                      466256 non-null  float64\n",
            " 33  revol_bal                    466285 non-null  int64  \n",
            " 34  revol_util                   465945 non-null  float64\n",
            " 35  total_acc                    466256 non-null  float64\n",
            " 36  initial_list_status          466285 non-null  object \n",
            " 37  out_prncp                    466285 non-null  float64\n",
            " 38  out_prncp_inv                466285 non-null  float64\n",
            " 39  total_pymnt                  466285 non-null  float64\n",
            " 40  total_pymnt_inv              466285 non-null  float64\n",
            " 41  total_rec_prncp              466285 non-null  float64\n",
            " 42  total_rec_int                466285 non-null  float64\n",
            " 43  total_rec_late_fee           466285 non-null  float64\n",
            " 44  recoveries                   466285 non-null  float64\n",
            " 45  collection_recovery_fee      466285 non-null  float64\n",
            " 46  last_pymnt_d                 465909 non-null  object \n",
            " 47  last_pymnt_amnt              466285 non-null  float64\n",
            " 48  next_pymnt_d                 239071 non-null  object \n",
            " 49  last_credit_pull_d           466243 non-null  object \n",
            " 50  collections_12_mths_ex_med   466140 non-null  float64\n",
            " 51  mths_since_last_major_derog  98974 non-null   float64\n",
            " 52  policy_code                  466285 non-null  int64  \n",
            " 53  application_type             466285 non-null  object \n",
            " 54  annual_inc_joint             0 non-null       float64\n",
            " 55  dti_joint                    0 non-null       float64\n",
            " 56  verification_status_joint    0 non-null       float64\n",
            " 57  acc_now_delinq               466256 non-null  float64\n",
            " 58  tot_coll_amt                 396009 non-null  float64\n",
            " 59  tot_cur_bal                  396009 non-null  float64\n",
            " 60  open_acc_6m                  0 non-null       float64\n",
            " 61  open_il_6m                   0 non-null       float64\n",
            " 62  open_il_12m                  0 non-null       float64\n",
            " 63  open_il_24m                  0 non-null       float64\n",
            " 64  mths_since_rcnt_il           0 non-null       float64\n",
            " 65  total_bal_il                 0 non-null       float64\n",
            " 66  il_util                      0 non-null       float64\n",
            " 67  open_rv_12m                  0 non-null       float64\n",
            " 68  open_rv_24m                  0 non-null       float64\n",
            " 69  max_bal_bc                   0 non-null       float64\n",
            " 70  all_util                     0 non-null       float64\n",
            " 71  total_rev_hi_lim             396009 non-null  float64\n",
            " 72  inq_fi                       0 non-null       float64\n",
            " 73  total_cu_tl                  0 non-null       float64\n",
            " 74  inq_last_12m                 0 non-null       float64\n",
            "dtypes: float64(46), int64(7), object(22)\n",
            "memory usage: 266.8+ MB\n"
          ],
          "name": "stdout"
        }
      ]
    },
    {
      "cell_type": "markdown",
      "metadata": {
        "id": "jY-WscLAENIz"
      },
      "source": [
        "$\\text{There are 75 columns in the dataset.The columns contain 3 types of datatypes like float (discrete numerical) , int (integer) and object (categorical)}$."
      ]
    },
    {
      "cell_type": "code",
      "metadata": {
        "colab": {
          "base_uri": "https://localhost:8080/"
        },
        "id": "2jjTXwGMEu5o",
        "outputId": "646f28db-e00a-47a9-81dc-c5ba063c6284"
      },
      "source": [
        "count = 0\n",
        "missing = []\n",
        "for col in data.columns :\n",
        "  p = data[col].isna().mean()\n",
        "  if p > 0.75 :\n",
        "    missing.append(col)\n",
        "    count += 1\n",
        "    continue\n",
        "print(\"Total columns with more than 75% missing values are =\",count)\n",
        "print(\"Those columns are : \",missing)"
      ],
      "execution_count": 10,
      "outputs": [
        {
          "output_type": "stream",
          "text": [
            "Total columns with more than 75% missing values are = 19\n",
            "Those columns are :  ['mths_since_last_record', 'mths_since_last_major_derog', 'annual_inc_joint', 'dti_joint', 'verification_status_joint', 'open_acc_6m', 'open_il_6m', 'open_il_12m', 'open_il_24m', 'mths_since_rcnt_il', 'total_bal_il', 'il_util', 'open_rv_12m', 'open_rv_24m', 'max_bal_bc', 'all_util', 'inq_fi', 'total_cu_tl', 'inq_last_12m']\n"
          ],
          "name": "stdout"
        }
      ]
    },
    {
      "cell_type": "markdown",
      "metadata": {
        "id": "QXug4FApKkAY"
      },
      "source": [
        "$\\text{We have 19 columns with more than 75% null values. We might remove them later after further analysis.}$"
      ]
    },
    {
      "cell_type": "code",
      "metadata": {
        "id": "dXWdp6SPfjj3",
        "colab": {
          "base_uri": "https://localhost:8080/",
          "height": 315
        },
        "outputId": "fe221ca3-96fc-49e8-a91b-1a6856ffc26f"
      },
      "source": [
        "data.describe()"
      ],
      "execution_count": 11,
      "outputs": [
        {
          "output_type": "execute_result",
          "data": {
            "text/html": [
              "<div>\n",
              "<style scoped>\n",
              "    .dataframe tbody tr th:only-of-type {\n",
              "        vertical-align: middle;\n",
              "    }\n",
              "\n",
              "    .dataframe tbody tr th {\n",
              "        vertical-align: top;\n",
              "    }\n",
              "\n",
              "    .dataframe thead th {\n",
              "        text-align: right;\n",
              "    }\n",
              "</style>\n",
              "<table border=\"1\" class=\"dataframe\">\n",
              "  <thead>\n",
              "    <tr style=\"text-align: right;\">\n",
              "      <th></th>\n",
              "      <th>Unnamed: 0</th>\n",
              "      <th>id</th>\n",
              "      <th>member_id</th>\n",
              "      <th>loan_amnt</th>\n",
              "      <th>funded_amnt</th>\n",
              "      <th>funded_amnt_inv</th>\n",
              "      <th>int_rate</th>\n",
              "      <th>installment</th>\n",
              "      <th>annual_inc</th>\n",
              "      <th>dti</th>\n",
              "      <th>delinq_2yrs</th>\n",
              "      <th>inq_last_6mths</th>\n",
              "      <th>mths_since_last_delinq</th>\n",
              "      <th>mths_since_last_record</th>\n",
              "      <th>open_acc</th>\n",
              "      <th>pub_rec</th>\n",
              "      <th>revol_bal</th>\n",
              "      <th>revol_util</th>\n",
              "      <th>total_acc</th>\n",
              "      <th>out_prncp</th>\n",
              "      <th>out_prncp_inv</th>\n",
              "      <th>total_pymnt</th>\n",
              "      <th>total_pymnt_inv</th>\n",
              "      <th>total_rec_prncp</th>\n",
              "      <th>total_rec_int</th>\n",
              "      <th>total_rec_late_fee</th>\n",
              "      <th>recoveries</th>\n",
              "      <th>collection_recovery_fee</th>\n",
              "      <th>last_pymnt_amnt</th>\n",
              "      <th>collections_12_mths_ex_med</th>\n",
              "      <th>mths_since_last_major_derog</th>\n",
              "      <th>policy_code</th>\n",
              "      <th>annual_inc_joint</th>\n",
              "      <th>dti_joint</th>\n",
              "      <th>verification_status_joint</th>\n",
              "      <th>acc_now_delinq</th>\n",
              "      <th>tot_coll_amt</th>\n",
              "      <th>tot_cur_bal</th>\n",
              "      <th>open_acc_6m</th>\n",
              "      <th>open_il_6m</th>\n",
              "      <th>open_il_12m</th>\n",
              "      <th>open_il_24m</th>\n",
              "      <th>mths_since_rcnt_il</th>\n",
              "      <th>total_bal_il</th>\n",
              "      <th>il_util</th>\n",
              "      <th>open_rv_12m</th>\n",
              "      <th>open_rv_24m</th>\n",
              "      <th>max_bal_bc</th>\n",
              "      <th>all_util</th>\n",
              "      <th>total_rev_hi_lim</th>\n",
              "      <th>inq_fi</th>\n",
              "      <th>total_cu_tl</th>\n",
              "      <th>inq_last_12m</th>\n",
              "    </tr>\n",
              "  </thead>\n",
              "  <tbody>\n",
              "    <tr>\n",
              "      <th>count</th>\n",
              "      <td>466285.000000</td>\n",
              "      <td>4.662850e+05</td>\n",
              "      <td>4.662850e+05</td>\n",
              "      <td>466285.000000</td>\n",
              "      <td>466285.000000</td>\n",
              "      <td>466285.000000</td>\n",
              "      <td>466285.000000</td>\n",
              "      <td>466285.000000</td>\n",
              "      <td>4.662810e+05</td>\n",
              "      <td>466285.000000</td>\n",
              "      <td>466256.000000</td>\n",
              "      <td>466256.000000</td>\n",
              "      <td>215934.000000</td>\n",
              "      <td>62638.000000</td>\n",
              "      <td>466256.000000</td>\n",
              "      <td>466256.000000</td>\n",
              "      <td>4.662850e+05</td>\n",
              "      <td>465945.000000</td>\n",
              "      <td>466256.000000</td>\n",
              "      <td>466285.000000</td>\n",
              "      <td>466285.000000</td>\n",
              "      <td>466285.000000</td>\n",
              "      <td>466285.000000</td>\n",
              "      <td>466285.000000</td>\n",
              "      <td>466285.000000</td>\n",
              "      <td>466285.000000</td>\n",
              "      <td>466285.000000</td>\n",
              "      <td>466285.000000</td>\n",
              "      <td>466285.000000</td>\n",
              "      <td>466140.000000</td>\n",
              "      <td>98974.000000</td>\n",
              "      <td>466285.0</td>\n",
              "      <td>0.0</td>\n",
              "      <td>0.0</td>\n",
              "      <td>0.0</td>\n",
              "      <td>466256.000000</td>\n",
              "      <td>3.960090e+05</td>\n",
              "      <td>3.960090e+05</td>\n",
              "      <td>0.0</td>\n",
              "      <td>0.0</td>\n",
              "      <td>0.0</td>\n",
              "      <td>0.0</td>\n",
              "      <td>0.0</td>\n",
              "      <td>0.0</td>\n",
              "      <td>0.0</td>\n",
              "      <td>0.0</td>\n",
              "      <td>0.0</td>\n",
              "      <td>0.0</td>\n",
              "      <td>0.0</td>\n",
              "      <td>3.960090e+05</td>\n",
              "      <td>0.0</td>\n",
              "      <td>0.0</td>\n",
              "      <td>0.0</td>\n",
              "    </tr>\n",
              "    <tr>\n",
              "      <th>mean</th>\n",
              "      <td>233142.000000</td>\n",
              "      <td>1.307973e+07</td>\n",
              "      <td>1.459766e+07</td>\n",
              "      <td>14317.277577</td>\n",
              "      <td>14291.801044</td>\n",
              "      <td>14222.329888</td>\n",
              "      <td>13.829236</td>\n",
              "      <td>432.061201</td>\n",
              "      <td>7.327738e+04</td>\n",
              "      <td>17.218758</td>\n",
              "      <td>0.284678</td>\n",
              "      <td>0.804745</td>\n",
              "      <td>34.104430</td>\n",
              "      <td>74.306012</td>\n",
              "      <td>11.187069</td>\n",
              "      <td>0.160564</td>\n",
              "      <td>1.623020e+04</td>\n",
              "      <td>56.176947</td>\n",
              "      <td>25.064430</td>\n",
              "      <td>4410.062342</td>\n",
              "      <td>4408.452258</td>\n",
              "      <td>11540.686220</td>\n",
              "      <td>11469.892747</td>\n",
              "      <td>8866.014657</td>\n",
              "      <td>2588.677225</td>\n",
              "      <td>0.650129</td>\n",
              "      <td>85.344211</td>\n",
              "      <td>8.961534</td>\n",
              "      <td>3123.913796</td>\n",
              "      <td>0.009085</td>\n",
              "      <td>42.852547</td>\n",
              "      <td>1.0</td>\n",
              "      <td>NaN</td>\n",
              "      <td>NaN</td>\n",
              "      <td>NaN</td>\n",
              "      <td>0.004002</td>\n",
              "      <td>1.919135e+02</td>\n",
              "      <td>1.388017e+05</td>\n",
              "      <td>NaN</td>\n",
              "      <td>NaN</td>\n",
              "      <td>NaN</td>\n",
              "      <td>NaN</td>\n",
              "      <td>NaN</td>\n",
              "      <td>NaN</td>\n",
              "      <td>NaN</td>\n",
              "      <td>NaN</td>\n",
              "      <td>NaN</td>\n",
              "      <td>NaN</td>\n",
              "      <td>NaN</td>\n",
              "      <td>3.037909e+04</td>\n",
              "      <td>NaN</td>\n",
              "      <td>NaN</td>\n",
              "      <td>NaN</td>\n",
              "    </tr>\n",
              "    <tr>\n",
              "      <th>std</th>\n",
              "      <td>134605.029472</td>\n",
              "      <td>1.089371e+07</td>\n",
              "      <td>1.168237e+07</td>\n",
              "      <td>8286.509164</td>\n",
              "      <td>8274.371300</td>\n",
              "      <td>8297.637788</td>\n",
              "      <td>4.357587</td>\n",
              "      <td>243.485550</td>\n",
              "      <td>5.496357e+04</td>\n",
              "      <td>7.851121</td>\n",
              "      <td>0.797365</td>\n",
              "      <td>1.091598</td>\n",
              "      <td>21.778487</td>\n",
              "      <td>30.357653</td>\n",
              "      <td>4.987526</td>\n",
              "      <td>0.510863</td>\n",
              "      <td>2.067625e+04</td>\n",
              "      <td>23.732628</td>\n",
              "      <td>11.600141</td>\n",
              "      <td>6355.078769</td>\n",
              "      <td>6353.198001</td>\n",
              "      <td>8265.627112</td>\n",
              "      <td>8254.157579</td>\n",
              "      <td>7031.687997</td>\n",
              "      <td>2483.809661</td>\n",
              "      <td>5.265730</td>\n",
              "      <td>552.216084</td>\n",
              "      <td>85.491437</td>\n",
              "      <td>5554.737393</td>\n",
              "      <td>0.108648</td>\n",
              "      <td>21.662591</td>\n",
              "      <td>0.0</td>\n",
              "      <td>NaN</td>\n",
              "      <td>NaN</td>\n",
              "      <td>NaN</td>\n",
              "      <td>0.068637</td>\n",
              "      <td>1.463021e+04</td>\n",
              "      <td>1.521147e+05</td>\n",
              "      <td>NaN</td>\n",
              "      <td>NaN</td>\n",
              "      <td>NaN</td>\n",
              "      <td>NaN</td>\n",
              "      <td>NaN</td>\n",
              "      <td>NaN</td>\n",
              "      <td>NaN</td>\n",
              "      <td>NaN</td>\n",
              "      <td>NaN</td>\n",
              "      <td>NaN</td>\n",
              "      <td>NaN</td>\n",
              "      <td>3.724713e+04</td>\n",
              "      <td>NaN</td>\n",
              "      <td>NaN</td>\n",
              "      <td>NaN</td>\n",
              "    </tr>\n",
              "    <tr>\n",
              "      <th>min</th>\n",
              "      <td>0.000000</td>\n",
              "      <td>5.473400e+04</td>\n",
              "      <td>7.047300e+04</td>\n",
              "      <td>500.000000</td>\n",
              "      <td>500.000000</td>\n",
              "      <td>0.000000</td>\n",
              "      <td>5.420000</td>\n",
              "      <td>15.670000</td>\n",
              "      <td>1.896000e+03</td>\n",
              "      <td>0.000000</td>\n",
              "      <td>0.000000</td>\n",
              "      <td>0.000000</td>\n",
              "      <td>0.000000</td>\n",
              "      <td>0.000000</td>\n",
              "      <td>0.000000</td>\n",
              "      <td>0.000000</td>\n",
              "      <td>0.000000e+00</td>\n",
              "      <td>0.000000</td>\n",
              "      <td>1.000000</td>\n",
              "      <td>0.000000</td>\n",
              "      <td>0.000000</td>\n",
              "      <td>0.000000</td>\n",
              "      <td>0.000000</td>\n",
              "      <td>0.000000</td>\n",
              "      <td>0.000000</td>\n",
              "      <td>0.000000</td>\n",
              "      <td>0.000000</td>\n",
              "      <td>0.000000</td>\n",
              "      <td>0.000000</td>\n",
              "      <td>0.000000</td>\n",
              "      <td>0.000000</td>\n",
              "      <td>1.0</td>\n",
              "      <td>NaN</td>\n",
              "      <td>NaN</td>\n",
              "      <td>NaN</td>\n",
              "      <td>0.000000</td>\n",
              "      <td>0.000000e+00</td>\n",
              "      <td>0.000000e+00</td>\n",
              "      <td>NaN</td>\n",
              "      <td>NaN</td>\n",
              "      <td>NaN</td>\n",
              "      <td>NaN</td>\n",
              "      <td>NaN</td>\n",
              "      <td>NaN</td>\n",
              "      <td>NaN</td>\n",
              "      <td>NaN</td>\n",
              "      <td>NaN</td>\n",
              "      <td>NaN</td>\n",
              "      <td>NaN</td>\n",
              "      <td>0.000000e+00</td>\n",
              "      <td>NaN</td>\n",
              "      <td>NaN</td>\n",
              "      <td>NaN</td>\n",
              "    </tr>\n",
              "    <tr>\n",
              "      <th>25%</th>\n",
              "      <td>116571.000000</td>\n",
              "      <td>3.639987e+06</td>\n",
              "      <td>4.379705e+06</td>\n",
              "      <td>8000.000000</td>\n",
              "      <td>8000.000000</td>\n",
              "      <td>8000.000000</td>\n",
              "      <td>10.990000</td>\n",
              "      <td>256.690000</td>\n",
              "      <td>4.500000e+04</td>\n",
              "      <td>11.360000</td>\n",
              "      <td>0.000000</td>\n",
              "      <td>0.000000</td>\n",
              "      <td>16.000000</td>\n",
              "      <td>53.000000</td>\n",
              "      <td>8.000000</td>\n",
              "      <td>0.000000</td>\n",
              "      <td>6.413000e+03</td>\n",
              "      <td>39.200000</td>\n",
              "      <td>17.000000</td>\n",
              "      <td>0.000000</td>\n",
              "      <td>0.000000</td>\n",
              "      <td>5552.125349</td>\n",
              "      <td>5499.250000</td>\n",
              "      <td>3708.560000</td>\n",
              "      <td>957.280000</td>\n",
              "      <td>0.000000</td>\n",
              "      <td>0.000000</td>\n",
              "      <td>0.000000</td>\n",
              "      <td>312.620000</td>\n",
              "      <td>0.000000</td>\n",
              "      <td>26.000000</td>\n",
              "      <td>1.0</td>\n",
              "      <td>NaN</td>\n",
              "      <td>NaN</td>\n",
              "      <td>NaN</td>\n",
              "      <td>0.000000</td>\n",
              "      <td>0.000000e+00</td>\n",
              "      <td>2.861800e+04</td>\n",
              "      <td>NaN</td>\n",
              "      <td>NaN</td>\n",
              "      <td>NaN</td>\n",
              "      <td>NaN</td>\n",
              "      <td>NaN</td>\n",
              "      <td>NaN</td>\n",
              "      <td>NaN</td>\n",
              "      <td>NaN</td>\n",
              "      <td>NaN</td>\n",
              "      <td>NaN</td>\n",
              "      <td>NaN</td>\n",
              "      <td>1.350000e+04</td>\n",
              "      <td>NaN</td>\n",
              "      <td>NaN</td>\n",
              "      <td>NaN</td>\n",
              "    </tr>\n",
              "    <tr>\n",
              "      <th>50%</th>\n",
              "      <td>233142.000000</td>\n",
              "      <td>1.010790e+07</td>\n",
              "      <td>1.194108e+07</td>\n",
              "      <td>12000.000000</td>\n",
              "      <td>12000.000000</td>\n",
              "      <td>12000.000000</td>\n",
              "      <td>13.660000</td>\n",
              "      <td>379.890000</td>\n",
              "      <td>6.300000e+04</td>\n",
              "      <td>16.870000</td>\n",
              "      <td>0.000000</td>\n",
              "      <td>0.000000</td>\n",
              "      <td>31.000000</td>\n",
              "      <td>76.000000</td>\n",
              "      <td>10.000000</td>\n",
              "      <td>0.000000</td>\n",
              "      <td>1.176400e+04</td>\n",
              "      <td>57.600000</td>\n",
              "      <td>23.000000</td>\n",
              "      <td>441.470000</td>\n",
              "      <td>441.380000</td>\n",
              "      <td>9419.250943</td>\n",
              "      <td>9355.430000</td>\n",
              "      <td>6817.760000</td>\n",
              "      <td>1818.880000</td>\n",
              "      <td>0.000000</td>\n",
              "      <td>0.000000</td>\n",
              "      <td>0.000000</td>\n",
              "      <td>545.960000</td>\n",
              "      <td>0.000000</td>\n",
              "      <td>42.000000</td>\n",
              "      <td>1.0</td>\n",
              "      <td>NaN</td>\n",
              "      <td>NaN</td>\n",
              "      <td>NaN</td>\n",
              "      <td>0.000000</td>\n",
              "      <td>0.000000e+00</td>\n",
              "      <td>8.153900e+04</td>\n",
              "      <td>NaN</td>\n",
              "      <td>NaN</td>\n",
              "      <td>NaN</td>\n",
              "      <td>NaN</td>\n",
              "      <td>NaN</td>\n",
              "      <td>NaN</td>\n",
              "      <td>NaN</td>\n",
              "      <td>NaN</td>\n",
              "      <td>NaN</td>\n",
              "      <td>NaN</td>\n",
              "      <td>NaN</td>\n",
              "      <td>2.280000e+04</td>\n",
              "      <td>NaN</td>\n",
              "      <td>NaN</td>\n",
              "      <td>NaN</td>\n",
              "    </tr>\n",
              "    <tr>\n",
              "      <th>75%</th>\n",
              "      <td>349713.000000</td>\n",
              "      <td>2.073121e+07</td>\n",
              "      <td>2.300154e+07</td>\n",
              "      <td>20000.000000</td>\n",
              "      <td>20000.000000</td>\n",
              "      <td>19950.000000</td>\n",
              "      <td>16.490000</td>\n",
              "      <td>566.580000</td>\n",
              "      <td>8.896000e+04</td>\n",
              "      <td>22.780000</td>\n",
              "      <td>0.000000</td>\n",
              "      <td>1.000000</td>\n",
              "      <td>49.000000</td>\n",
              "      <td>102.000000</td>\n",
              "      <td>14.000000</td>\n",
              "      <td>0.000000</td>\n",
              "      <td>2.033300e+04</td>\n",
              "      <td>74.700000</td>\n",
              "      <td>32.000000</td>\n",
              "      <td>7341.650000</td>\n",
              "      <td>7338.390000</td>\n",
              "      <td>15308.158460</td>\n",
              "      <td>15231.310000</td>\n",
              "      <td>12000.000000</td>\n",
              "      <td>3304.530000</td>\n",
              "      <td>0.000000</td>\n",
              "      <td>0.000000</td>\n",
              "      <td>0.000000</td>\n",
              "      <td>3187.510000</td>\n",
              "      <td>0.000000</td>\n",
              "      <td>59.000000</td>\n",
              "      <td>1.0</td>\n",
              "      <td>NaN</td>\n",
              "      <td>NaN</td>\n",
              "      <td>NaN</td>\n",
              "      <td>0.000000</td>\n",
              "      <td>0.000000e+00</td>\n",
              "      <td>2.089530e+05</td>\n",
              "      <td>NaN</td>\n",
              "      <td>NaN</td>\n",
              "      <td>NaN</td>\n",
              "      <td>NaN</td>\n",
              "      <td>NaN</td>\n",
              "      <td>NaN</td>\n",
              "      <td>NaN</td>\n",
              "      <td>NaN</td>\n",
              "      <td>NaN</td>\n",
              "      <td>NaN</td>\n",
              "      <td>NaN</td>\n",
              "      <td>3.790000e+04</td>\n",
              "      <td>NaN</td>\n",
              "      <td>NaN</td>\n",
              "      <td>NaN</td>\n",
              "    </tr>\n",
              "    <tr>\n",
              "      <th>max</th>\n",
              "      <td>466284.000000</td>\n",
              "      <td>3.809811e+07</td>\n",
              "      <td>4.086083e+07</td>\n",
              "      <td>35000.000000</td>\n",
              "      <td>35000.000000</td>\n",
              "      <td>35000.000000</td>\n",
              "      <td>26.060000</td>\n",
              "      <td>1409.990000</td>\n",
              "      <td>7.500000e+06</td>\n",
              "      <td>39.990000</td>\n",
              "      <td>29.000000</td>\n",
              "      <td>33.000000</td>\n",
              "      <td>188.000000</td>\n",
              "      <td>129.000000</td>\n",
              "      <td>84.000000</td>\n",
              "      <td>63.000000</td>\n",
              "      <td>2.568995e+06</td>\n",
              "      <td>892.300000</td>\n",
              "      <td>156.000000</td>\n",
              "      <td>32160.380000</td>\n",
              "      <td>32160.380000</td>\n",
              "      <td>57777.579870</td>\n",
              "      <td>57777.580000</td>\n",
              "      <td>35000.030000</td>\n",
              "      <td>24205.620000</td>\n",
              "      <td>358.680000</td>\n",
              "      <td>33520.270000</td>\n",
              "      <td>7002.190000</td>\n",
              "      <td>36234.440000</td>\n",
              "      <td>20.000000</td>\n",
              "      <td>188.000000</td>\n",
              "      <td>1.0</td>\n",
              "      <td>NaN</td>\n",
              "      <td>NaN</td>\n",
              "      <td>NaN</td>\n",
              "      <td>5.000000</td>\n",
              "      <td>9.152545e+06</td>\n",
              "      <td>8.000078e+06</td>\n",
              "      <td>NaN</td>\n",
              "      <td>NaN</td>\n",
              "      <td>NaN</td>\n",
              "      <td>NaN</td>\n",
              "      <td>NaN</td>\n",
              "      <td>NaN</td>\n",
              "      <td>NaN</td>\n",
              "      <td>NaN</td>\n",
              "      <td>NaN</td>\n",
              "      <td>NaN</td>\n",
              "      <td>NaN</td>\n",
              "      <td>9.999999e+06</td>\n",
              "      <td>NaN</td>\n",
              "      <td>NaN</td>\n",
              "      <td>NaN</td>\n",
              "    </tr>\n",
              "  </tbody>\n",
              "</table>\n",
              "</div>"
            ],
            "text/plain": [
              "          Unnamed: 0            id  ...  total_cu_tl  inq_last_12m\n",
              "count  466285.000000  4.662850e+05  ...          0.0           0.0\n",
              "mean   233142.000000  1.307973e+07  ...          NaN           NaN\n",
              "std    134605.029472  1.089371e+07  ...          NaN           NaN\n",
              "min         0.000000  5.473400e+04  ...          NaN           NaN\n",
              "25%    116571.000000  3.639987e+06  ...          NaN           NaN\n",
              "50%    233142.000000  1.010790e+07  ...          NaN           NaN\n",
              "75%    349713.000000  2.073121e+07  ...          NaN           NaN\n",
              "max    466284.000000  3.809811e+07  ...          NaN           NaN\n",
              "\n",
              "[8 rows x 53 columns]"
            ]
          },
          "metadata": {
            "tags": []
          },
          "execution_count": 11
        }
      ]
    },
    {
      "cell_type": "markdown",
      "metadata": {
        "id": "LSVN_9o3u_ZG"
      },
      "source": [
        "$\\text{Detailed information of columns data}$"
      ]
    },
    {
      "cell_type": "code",
      "metadata": {
        "colab": {
          "base_uri": "https://localhost:8080/"
        },
        "id": "Gul2wvaOD4AE",
        "outputId": "b8d7968c-e75c-4f63-bbd9-f28ad8edd3fa"
      },
      "source": [
        "for col in data.columns.values :\n",
        "  values = pd.unique(data[col])\n",
        "  print(\"\\033[1m\" + col + \"\\033[0m\" + \" is of type \" + \"\\033[1m\"+str(data[col].dtypes) + \"\\033[0m\" + \" and has \" + \"\\033[1m\"+ str(len(values)) + \"\\033[0m\" + \" unique values \" + \"and \" + \"\\033[1m\" +str(data[col].isna().sum()) + \"\\033[0m\" + \" null values\")\n",
        "  if len(values) < 20 :\n",
        "    lst = ''\n",
        "    for i in range(0 , len(values)) :\n",
        "      lst = lst + str(values[i]) + ' ,'\n",
        "    print(\"These are : \" , lst[0:len(lst)-2])"
      ],
      "execution_count": 12,
      "outputs": [
        {
          "output_type": "stream",
          "text": [
            "\u001b[1mUnnamed: 0\u001b[0m is of type \u001b[1mint64\u001b[0m and has \u001b[1m466285\u001b[0m unique values and \u001b[1m0\u001b[0m null values\n",
            "\u001b[1mid\u001b[0m is of type \u001b[1mint64\u001b[0m and has \u001b[1m466285\u001b[0m unique values and \u001b[1m0\u001b[0m null values\n",
            "\u001b[1mmember_id\u001b[0m is of type \u001b[1mint64\u001b[0m and has \u001b[1m466285\u001b[0m unique values and \u001b[1m0\u001b[0m null values\n",
            "\u001b[1mloan_amnt\u001b[0m is of type \u001b[1mint64\u001b[0m and has \u001b[1m1352\u001b[0m unique values and \u001b[1m0\u001b[0m null values\n",
            "\u001b[1mfunded_amnt\u001b[0m is of type \u001b[1mint64\u001b[0m and has \u001b[1m1354\u001b[0m unique values and \u001b[1m0\u001b[0m null values\n",
            "\u001b[1mfunded_amnt_inv\u001b[0m is of type \u001b[1mfloat64\u001b[0m and has \u001b[1m9854\u001b[0m unique values and \u001b[1m0\u001b[0m null values\n",
            "\u001b[1mterm\u001b[0m is of type \u001b[1mobject\u001b[0m and has \u001b[1m2\u001b[0m unique values and \u001b[1m0\u001b[0m null values\n",
            "These are :   36 months , 60 months\n",
            "\u001b[1mint_rate\u001b[0m is of type \u001b[1mfloat64\u001b[0m and has \u001b[1m506\u001b[0m unique values and \u001b[1m0\u001b[0m null values\n",
            "\u001b[1minstallment\u001b[0m is of type \u001b[1mfloat64\u001b[0m and has \u001b[1m55622\u001b[0m unique values and \u001b[1m0\u001b[0m null values\n",
            "\u001b[1mgrade\u001b[0m is of type \u001b[1mobject\u001b[0m and has \u001b[1m7\u001b[0m unique values and \u001b[1m0\u001b[0m null values\n",
            "These are :  B ,C ,A ,E ,F ,D ,G\n",
            "\u001b[1msub_grade\u001b[0m is of type \u001b[1mobject\u001b[0m and has \u001b[1m35\u001b[0m unique values and \u001b[1m0\u001b[0m null values\n",
            "\u001b[1memp_title\u001b[0m is of type \u001b[1mobject\u001b[0m and has \u001b[1m205476\u001b[0m unique values and \u001b[1m27588\u001b[0m null values\n",
            "\u001b[1memp_length\u001b[0m is of type \u001b[1mobject\u001b[0m and has \u001b[1m12\u001b[0m unique values and \u001b[1m21008\u001b[0m null values\n",
            "These are :  10+ years ,< 1 year ,1 year ,3 years ,8 years ,9 years ,4 years ,5 years ,6 years ,2 years ,7 years ,nan\n",
            "\u001b[1mhome_ownership\u001b[0m is of type \u001b[1mobject\u001b[0m and has \u001b[1m6\u001b[0m unique values and \u001b[1m0\u001b[0m null values\n",
            "These are :  RENT ,OWN ,MORTGAGE ,OTHER ,NONE ,ANY\n",
            "\u001b[1mannual_inc\u001b[0m is of type \u001b[1mfloat64\u001b[0m and has \u001b[1m31902\u001b[0m unique values and \u001b[1m4\u001b[0m null values\n",
            "\u001b[1mverification_status\u001b[0m is of type \u001b[1mobject\u001b[0m and has \u001b[1m3\u001b[0m unique values and \u001b[1m0\u001b[0m null values\n",
            "These are :  Verified ,Source Verified ,Not Verified\n",
            "\u001b[1missue_d\u001b[0m is of type \u001b[1mobject\u001b[0m and has \u001b[1m91\u001b[0m unique values and \u001b[1m0\u001b[0m null values\n",
            "\u001b[1mloan_status\u001b[0m is of type \u001b[1mobject\u001b[0m and has \u001b[1m9\u001b[0m unique values and \u001b[1m0\u001b[0m null values\n",
            "These are :  Fully Paid ,Charged Off ,Current ,Default ,Late (31-120 days) ,In Grace Period ,Late (16-30 days) ,Does not meet the credit policy. Status:Fully Paid ,Does not meet the credit policy. Status:Charged Off\n",
            "\u001b[1mpymnt_plan\u001b[0m is of type \u001b[1mobject\u001b[0m and has \u001b[1m2\u001b[0m unique values and \u001b[1m0\u001b[0m null values\n",
            "These are :  n ,y\n",
            "\u001b[1murl\u001b[0m is of type \u001b[1mobject\u001b[0m and has \u001b[1m466285\u001b[0m unique values and \u001b[1m0\u001b[0m null values\n",
            "\u001b[1mdesc\u001b[0m is of type \u001b[1mobject\u001b[0m and has \u001b[1m124437\u001b[0m unique values and \u001b[1m340302\u001b[0m null values\n",
            "\u001b[1mpurpose\u001b[0m is of type \u001b[1mobject\u001b[0m and has \u001b[1m14\u001b[0m unique values and \u001b[1m0\u001b[0m null values\n",
            "These are :  credit_card ,car ,small_business ,other ,wedding ,debt_consolidation ,home_improvement ,major_purchase ,medical ,moving ,vacation ,house ,renewable_energy ,educational\n",
            "\u001b[1mtitle\u001b[0m is of type \u001b[1mobject\u001b[0m and has \u001b[1m63100\u001b[0m unique values and \u001b[1m20\u001b[0m null values\n",
            "\u001b[1mzip_code\u001b[0m is of type \u001b[1mobject\u001b[0m and has \u001b[1m888\u001b[0m unique values and \u001b[1m0\u001b[0m null values\n",
            "\u001b[1maddr_state\u001b[0m is of type \u001b[1mobject\u001b[0m and has \u001b[1m50\u001b[0m unique values and \u001b[1m0\u001b[0m null values\n",
            "\u001b[1mdti\u001b[0m is of type \u001b[1mfloat64\u001b[0m and has \u001b[1m3997\u001b[0m unique values and \u001b[1m0\u001b[0m null values\n",
            "\u001b[1mdelinq_2yrs\u001b[0m is of type \u001b[1mfloat64\u001b[0m and has \u001b[1m25\u001b[0m unique values and \u001b[1m29\u001b[0m null values\n",
            "\u001b[1mearliest_cr_line\u001b[0m is of type \u001b[1mobject\u001b[0m and has \u001b[1m665\u001b[0m unique values and \u001b[1m29\u001b[0m null values\n",
            "\u001b[1minq_last_6mths\u001b[0m is of type \u001b[1mfloat64\u001b[0m and has \u001b[1m29\u001b[0m unique values and \u001b[1m29\u001b[0m null values\n",
            "\u001b[1mmths_since_last_delinq\u001b[0m is of type \u001b[1mfloat64\u001b[0m and has \u001b[1m146\u001b[0m unique values and \u001b[1m250351\u001b[0m null values\n",
            "\u001b[1mmths_since_last_record\u001b[0m is of type \u001b[1mfloat64\u001b[0m and has \u001b[1m124\u001b[0m unique values and \u001b[1m403647\u001b[0m null values\n",
            "\u001b[1mopen_acc\u001b[0m is of type \u001b[1mfloat64\u001b[0m and has \u001b[1m63\u001b[0m unique values and \u001b[1m29\u001b[0m null values\n",
            "\u001b[1mpub_rec\u001b[0m is of type \u001b[1mfloat64\u001b[0m and has \u001b[1m27\u001b[0m unique values and \u001b[1m29\u001b[0m null values\n",
            "\u001b[1mrevol_bal\u001b[0m is of type \u001b[1mint64\u001b[0m and has \u001b[1m58142\u001b[0m unique values and \u001b[1m0\u001b[0m null values\n",
            "\u001b[1mrevol_util\u001b[0m is of type \u001b[1mfloat64\u001b[0m and has \u001b[1m1270\u001b[0m unique values and \u001b[1m340\u001b[0m null values\n",
            "\u001b[1mtotal_acc\u001b[0m is of type \u001b[1mfloat64\u001b[0m and has \u001b[1m113\u001b[0m unique values and \u001b[1m29\u001b[0m null values\n",
            "\u001b[1minitial_list_status\u001b[0m is of type \u001b[1mobject\u001b[0m and has \u001b[1m2\u001b[0m unique values and \u001b[1m0\u001b[0m null values\n",
            "These are :  f ,w\n",
            "\u001b[1mout_prncp\u001b[0m is of type \u001b[1mfloat64\u001b[0m and has \u001b[1m135665\u001b[0m unique values and \u001b[1m0\u001b[0m null values\n",
            "\u001b[1mout_prncp_inv\u001b[0m is of type \u001b[1mfloat64\u001b[0m and has \u001b[1m141189\u001b[0m unique values and \u001b[1m0\u001b[0m null values\n",
            "\u001b[1mtotal_pymnt\u001b[0m is of type \u001b[1mfloat64\u001b[0m and has \u001b[1m351609\u001b[0m unique values and \u001b[1m0\u001b[0m null values\n",
            "\u001b[1mtotal_pymnt_inv\u001b[0m is of type \u001b[1mfloat64\u001b[0m and has \u001b[1m347659\u001b[0m unique values and \u001b[1m0\u001b[0m null values\n",
            "\u001b[1mtotal_rec_prncp\u001b[0m is of type \u001b[1mfloat64\u001b[0m and has \u001b[1m172713\u001b[0m unique values and \u001b[1m0\u001b[0m null values\n",
            "\u001b[1mtotal_rec_int\u001b[0m is of type \u001b[1mfloat64\u001b[0m and has \u001b[1m270249\u001b[0m unique values and \u001b[1m0\u001b[0m null values\n",
            "\u001b[1mtotal_rec_late_fee\u001b[0m is of type \u001b[1mfloat64\u001b[0m and has \u001b[1m5808\u001b[0m unique values and \u001b[1m0\u001b[0m null values\n",
            "\u001b[1mrecoveries\u001b[0m is of type \u001b[1mfloat64\u001b[0m and has \u001b[1m22773\u001b[0m unique values and \u001b[1m0\u001b[0m null values\n",
            "\u001b[1mcollection_recovery_fee\u001b[0m is of type \u001b[1mfloat64\u001b[0m and has \u001b[1m20275\u001b[0m unique values and \u001b[1m0\u001b[0m null values\n",
            "\u001b[1mlast_pymnt_d\u001b[0m is of type \u001b[1mobject\u001b[0m and has \u001b[1m99\u001b[0m unique values and \u001b[1m376\u001b[0m null values\n",
            "\u001b[1mlast_pymnt_amnt\u001b[0m is of type \u001b[1mfloat64\u001b[0m and has \u001b[1m198194\u001b[0m unique values and \u001b[1m0\u001b[0m null values\n",
            "\u001b[1mnext_pymnt_d\u001b[0m is of type \u001b[1mobject\u001b[0m and has \u001b[1m101\u001b[0m unique values and \u001b[1m227214\u001b[0m null values\n",
            "\u001b[1mlast_credit_pull_d\u001b[0m is of type \u001b[1mobject\u001b[0m and has \u001b[1m104\u001b[0m unique values and \u001b[1m42\u001b[0m null values\n",
            "\u001b[1mcollections_12_mths_ex_med\u001b[0m is of type \u001b[1mfloat64\u001b[0m and has \u001b[1m10\u001b[0m unique values and \u001b[1m145\u001b[0m null values\n",
            "These are :  0.0 ,nan ,1.0 ,2.0 ,4.0 ,3.0 ,6.0 ,16.0 ,20.0 ,5.0\n",
            "\u001b[1mmths_since_last_major_derog\u001b[0m is of type \u001b[1mfloat64\u001b[0m and has \u001b[1m163\u001b[0m unique values and \u001b[1m367311\u001b[0m null values\n",
            "\u001b[1mpolicy_code\u001b[0m is of type \u001b[1mint64\u001b[0m and has \u001b[1m1\u001b[0m unique values and \u001b[1m0\u001b[0m null values\n",
            "These are :  1\n",
            "\u001b[1mapplication_type\u001b[0m is of type \u001b[1mobject\u001b[0m and has \u001b[1m1\u001b[0m unique values and \u001b[1m0\u001b[0m null values\n",
            "These are :  INDIVIDUAL\n",
            "\u001b[1mannual_inc_joint\u001b[0m is of type \u001b[1mfloat64\u001b[0m and has \u001b[1m1\u001b[0m unique values and \u001b[1m466285\u001b[0m null values\n",
            "These are :  nan\n",
            "\u001b[1mdti_joint\u001b[0m is of type \u001b[1mfloat64\u001b[0m and has \u001b[1m1\u001b[0m unique values and \u001b[1m466285\u001b[0m null values\n",
            "These are :  nan\n",
            "\u001b[1mverification_status_joint\u001b[0m is of type \u001b[1mfloat64\u001b[0m and has \u001b[1m1\u001b[0m unique values and \u001b[1m466285\u001b[0m null values\n",
            "These are :  nan\n",
            "\u001b[1macc_now_delinq\u001b[0m is of type \u001b[1mfloat64\u001b[0m and has \u001b[1m7\u001b[0m unique values and \u001b[1m29\u001b[0m null values\n",
            "These are :  0.0 ,1.0 ,nan ,2.0 ,3.0 ,5.0 ,4.0\n",
            "\u001b[1mtot_coll_amt\u001b[0m is of type \u001b[1mfloat64\u001b[0m and has \u001b[1m6322\u001b[0m unique values and \u001b[1m70276\u001b[0m null values\n",
            "\u001b[1mtot_cur_bal\u001b[0m is of type \u001b[1mfloat64\u001b[0m and has \u001b[1m220691\u001b[0m unique values and \u001b[1m70276\u001b[0m null values\n",
            "\u001b[1mopen_acc_6m\u001b[0m is of type \u001b[1mfloat64\u001b[0m and has \u001b[1m1\u001b[0m unique values and \u001b[1m466285\u001b[0m null values\n",
            "These are :  nan\n",
            "\u001b[1mopen_il_6m\u001b[0m is of type \u001b[1mfloat64\u001b[0m and has \u001b[1m1\u001b[0m unique values and \u001b[1m466285\u001b[0m null values\n",
            "These are :  nan\n",
            "\u001b[1mopen_il_12m\u001b[0m is of type \u001b[1mfloat64\u001b[0m and has \u001b[1m1\u001b[0m unique values and \u001b[1m466285\u001b[0m null values\n",
            "These are :  nan\n",
            "\u001b[1mopen_il_24m\u001b[0m is of type \u001b[1mfloat64\u001b[0m and has \u001b[1m1\u001b[0m unique values and \u001b[1m466285\u001b[0m null values\n",
            "These are :  nan\n",
            "\u001b[1mmths_since_rcnt_il\u001b[0m is of type \u001b[1mfloat64\u001b[0m and has \u001b[1m1\u001b[0m unique values and \u001b[1m466285\u001b[0m null values\n",
            "These are :  nan\n",
            "\u001b[1mtotal_bal_il\u001b[0m is of type \u001b[1mfloat64\u001b[0m and has \u001b[1m1\u001b[0m unique values and \u001b[1m466285\u001b[0m null values\n",
            "These are :  nan\n",
            "\u001b[1mil_util\u001b[0m is of type \u001b[1mfloat64\u001b[0m and has \u001b[1m1\u001b[0m unique values and \u001b[1m466285\u001b[0m null values\n",
            "These are :  nan\n",
            "\u001b[1mopen_rv_12m\u001b[0m is of type \u001b[1mfloat64\u001b[0m and has \u001b[1m1\u001b[0m unique values and \u001b[1m466285\u001b[0m null values\n",
            "These are :  nan\n",
            "\u001b[1mopen_rv_24m\u001b[0m is of type \u001b[1mfloat64\u001b[0m and has \u001b[1m1\u001b[0m unique values and \u001b[1m466285\u001b[0m null values\n",
            "These are :  nan\n",
            "\u001b[1mmax_bal_bc\u001b[0m is of type \u001b[1mfloat64\u001b[0m and has \u001b[1m1\u001b[0m unique values and \u001b[1m466285\u001b[0m null values\n",
            "These are :  nan\n",
            "\u001b[1mall_util\u001b[0m is of type \u001b[1mfloat64\u001b[0m and has \u001b[1m1\u001b[0m unique values and \u001b[1m466285\u001b[0m null values\n",
            "These are :  nan\n",
            "\u001b[1mtotal_rev_hi_lim\u001b[0m is of type \u001b[1mfloat64\u001b[0m and has \u001b[1m14613\u001b[0m unique values and \u001b[1m70276\u001b[0m null values\n",
            "\u001b[1minq_fi\u001b[0m is of type \u001b[1mfloat64\u001b[0m and has \u001b[1m1\u001b[0m unique values and \u001b[1m466285\u001b[0m null values\n",
            "These are :  nan\n",
            "\u001b[1mtotal_cu_tl\u001b[0m is of type \u001b[1mfloat64\u001b[0m and has \u001b[1m1\u001b[0m unique values and \u001b[1m466285\u001b[0m null values\n",
            "These are :  nan\n",
            "\u001b[1minq_last_12m\u001b[0m is of type \u001b[1mfloat64\u001b[0m and has \u001b[1m1\u001b[0m unique values and \u001b[1m466285\u001b[0m null values\n",
            "These are :  nan\n"
          ],
          "name": "stdout"
        }
      ]
    },
    {
      "cell_type": "markdown",
      "metadata": {
        "id": "eb3uecpZdnHV"
      },
      "source": [
        "$\\text{Droping columns with more than 75% null values.}$"
      ]
    },
    {
      "cell_type": "code",
      "metadata": {
        "id": "Hu_v9z1DQdVV"
      },
      "source": [
        "new_data = data.dropna(axis = 1 , how = \"all\" , thresh = data.shape[0]*0.25)\n",
        "pd.options.mode.chained_assignment = None\n",
        "new_data.drop('Unnamed: 0' ,inplace = True , axis = 1)"
      ],
      "execution_count": 13,
      "outputs": []
    },
    {
      "cell_type": "code",
      "metadata": {
        "colab": {
          "base_uri": "https://localhost:8080/",
          "height": 397
        },
        "id": "NBMak-PUvamR",
        "outputId": "2161a383-a73d-45cc-8a2d-5492d3168b52"
      },
      "source": [
        "new_data.head(3)"
      ],
      "execution_count": 14,
      "outputs": [
        {
          "output_type": "execute_result",
          "data": {
            "text/html": [
              "<div>\n",
              "<style scoped>\n",
              "    .dataframe tbody tr th:only-of-type {\n",
              "        vertical-align: middle;\n",
              "    }\n",
              "\n",
              "    .dataframe tbody tr th {\n",
              "        vertical-align: top;\n",
              "    }\n",
              "\n",
              "    .dataframe thead th {\n",
              "        text-align: right;\n",
              "    }\n",
              "</style>\n",
              "<table border=\"1\" class=\"dataframe\">\n",
              "  <thead>\n",
              "    <tr style=\"text-align: right;\">\n",
              "      <th></th>\n",
              "      <th>id</th>\n",
              "      <th>member_id</th>\n",
              "      <th>loan_amnt</th>\n",
              "      <th>funded_amnt</th>\n",
              "      <th>funded_amnt_inv</th>\n",
              "      <th>term</th>\n",
              "      <th>int_rate</th>\n",
              "      <th>installment</th>\n",
              "      <th>grade</th>\n",
              "      <th>sub_grade</th>\n",
              "      <th>emp_title</th>\n",
              "      <th>emp_length</th>\n",
              "      <th>home_ownership</th>\n",
              "      <th>annual_inc</th>\n",
              "      <th>verification_status</th>\n",
              "      <th>issue_d</th>\n",
              "      <th>loan_status</th>\n",
              "      <th>pymnt_plan</th>\n",
              "      <th>url</th>\n",
              "      <th>desc</th>\n",
              "      <th>purpose</th>\n",
              "      <th>title</th>\n",
              "      <th>zip_code</th>\n",
              "      <th>addr_state</th>\n",
              "      <th>dti</th>\n",
              "      <th>delinq_2yrs</th>\n",
              "      <th>earliest_cr_line</th>\n",
              "      <th>inq_last_6mths</th>\n",
              "      <th>mths_since_last_delinq</th>\n",
              "      <th>open_acc</th>\n",
              "      <th>pub_rec</th>\n",
              "      <th>revol_bal</th>\n",
              "      <th>revol_util</th>\n",
              "      <th>total_acc</th>\n",
              "      <th>initial_list_status</th>\n",
              "      <th>out_prncp</th>\n",
              "      <th>out_prncp_inv</th>\n",
              "      <th>total_pymnt</th>\n",
              "      <th>total_pymnt_inv</th>\n",
              "      <th>total_rec_prncp</th>\n",
              "      <th>total_rec_int</th>\n",
              "      <th>total_rec_late_fee</th>\n",
              "      <th>recoveries</th>\n",
              "      <th>collection_recovery_fee</th>\n",
              "      <th>last_pymnt_d</th>\n",
              "      <th>last_pymnt_amnt</th>\n",
              "      <th>next_pymnt_d</th>\n",
              "      <th>last_credit_pull_d</th>\n",
              "      <th>collections_12_mths_ex_med</th>\n",
              "      <th>policy_code</th>\n",
              "      <th>application_type</th>\n",
              "      <th>acc_now_delinq</th>\n",
              "      <th>tot_coll_amt</th>\n",
              "      <th>tot_cur_bal</th>\n",
              "      <th>total_rev_hi_lim</th>\n",
              "    </tr>\n",
              "  </thead>\n",
              "  <tbody>\n",
              "    <tr>\n",
              "      <th>0</th>\n",
              "      <td>1077501</td>\n",
              "      <td>1296599</td>\n",
              "      <td>5000</td>\n",
              "      <td>5000</td>\n",
              "      <td>4975.0</td>\n",
              "      <td>36 months</td>\n",
              "      <td>10.65</td>\n",
              "      <td>162.87</td>\n",
              "      <td>B</td>\n",
              "      <td>B2</td>\n",
              "      <td>NaN</td>\n",
              "      <td>10+ years</td>\n",
              "      <td>RENT</td>\n",
              "      <td>24000.0</td>\n",
              "      <td>Verified</td>\n",
              "      <td>Dec-11</td>\n",
              "      <td>Fully Paid</td>\n",
              "      <td>n</td>\n",
              "      <td>https://www.lendingclub.com/browse/loanDetail....</td>\n",
              "      <td>Borrower added on 12/22/11 &gt; I need to upgra...</td>\n",
              "      <td>credit_card</td>\n",
              "      <td>Computer</td>\n",
              "      <td>860xx</td>\n",
              "      <td>AZ</td>\n",
              "      <td>27.65</td>\n",
              "      <td>0.0</td>\n",
              "      <td>Jan-85</td>\n",
              "      <td>1.0</td>\n",
              "      <td>NaN</td>\n",
              "      <td>3.0</td>\n",
              "      <td>0.0</td>\n",
              "      <td>13648</td>\n",
              "      <td>83.7</td>\n",
              "      <td>9.0</td>\n",
              "      <td>f</td>\n",
              "      <td>0.0</td>\n",
              "      <td>0.0</td>\n",
              "      <td>5861.071414</td>\n",
              "      <td>5831.78</td>\n",
              "      <td>5000.00</td>\n",
              "      <td>861.07</td>\n",
              "      <td>0.0</td>\n",
              "      <td>0.00</td>\n",
              "      <td>0.00</td>\n",
              "      <td>Jan-15</td>\n",
              "      <td>171.62</td>\n",
              "      <td>NaN</td>\n",
              "      <td>Jan-16</td>\n",
              "      <td>0.0</td>\n",
              "      <td>1</td>\n",
              "      <td>INDIVIDUAL</td>\n",
              "      <td>0.0</td>\n",
              "      <td>NaN</td>\n",
              "      <td>NaN</td>\n",
              "      <td>NaN</td>\n",
              "    </tr>\n",
              "    <tr>\n",
              "      <th>1</th>\n",
              "      <td>1077430</td>\n",
              "      <td>1314167</td>\n",
              "      <td>2500</td>\n",
              "      <td>2500</td>\n",
              "      <td>2500.0</td>\n",
              "      <td>60 months</td>\n",
              "      <td>15.27</td>\n",
              "      <td>59.83</td>\n",
              "      <td>C</td>\n",
              "      <td>C4</td>\n",
              "      <td>Ryder</td>\n",
              "      <td>&lt; 1 year</td>\n",
              "      <td>RENT</td>\n",
              "      <td>30000.0</td>\n",
              "      <td>Source Verified</td>\n",
              "      <td>Dec-11</td>\n",
              "      <td>Charged Off</td>\n",
              "      <td>n</td>\n",
              "      <td>https://www.lendingclub.com/browse/loanDetail....</td>\n",
              "      <td>Borrower added on 12/22/11 &gt; I plan to use t...</td>\n",
              "      <td>car</td>\n",
              "      <td>bike</td>\n",
              "      <td>309xx</td>\n",
              "      <td>GA</td>\n",
              "      <td>1.00</td>\n",
              "      <td>0.0</td>\n",
              "      <td>Apr-99</td>\n",
              "      <td>5.0</td>\n",
              "      <td>NaN</td>\n",
              "      <td>3.0</td>\n",
              "      <td>0.0</td>\n",
              "      <td>1687</td>\n",
              "      <td>9.4</td>\n",
              "      <td>4.0</td>\n",
              "      <td>f</td>\n",
              "      <td>0.0</td>\n",
              "      <td>0.0</td>\n",
              "      <td>1008.710000</td>\n",
              "      <td>1008.71</td>\n",
              "      <td>456.46</td>\n",
              "      <td>435.17</td>\n",
              "      <td>0.0</td>\n",
              "      <td>117.08</td>\n",
              "      <td>1.11</td>\n",
              "      <td>Apr-13</td>\n",
              "      <td>119.66</td>\n",
              "      <td>NaN</td>\n",
              "      <td>Sep-13</td>\n",
              "      <td>0.0</td>\n",
              "      <td>1</td>\n",
              "      <td>INDIVIDUAL</td>\n",
              "      <td>0.0</td>\n",
              "      <td>NaN</td>\n",
              "      <td>NaN</td>\n",
              "      <td>NaN</td>\n",
              "    </tr>\n",
              "    <tr>\n",
              "      <th>2</th>\n",
              "      <td>1077175</td>\n",
              "      <td>1313524</td>\n",
              "      <td>2400</td>\n",
              "      <td>2400</td>\n",
              "      <td>2400.0</td>\n",
              "      <td>36 months</td>\n",
              "      <td>15.96</td>\n",
              "      <td>84.33</td>\n",
              "      <td>C</td>\n",
              "      <td>C5</td>\n",
              "      <td>NaN</td>\n",
              "      <td>10+ years</td>\n",
              "      <td>RENT</td>\n",
              "      <td>12252.0</td>\n",
              "      <td>Not Verified</td>\n",
              "      <td>Dec-11</td>\n",
              "      <td>Fully Paid</td>\n",
              "      <td>n</td>\n",
              "      <td>https://www.lendingclub.com/browse/loanDetail....</td>\n",
              "      <td>NaN</td>\n",
              "      <td>small_business</td>\n",
              "      <td>real estate business</td>\n",
              "      <td>606xx</td>\n",
              "      <td>IL</td>\n",
              "      <td>8.72</td>\n",
              "      <td>0.0</td>\n",
              "      <td>Nov-01</td>\n",
              "      <td>2.0</td>\n",
              "      <td>NaN</td>\n",
              "      <td>2.0</td>\n",
              "      <td>0.0</td>\n",
              "      <td>2956</td>\n",
              "      <td>98.5</td>\n",
              "      <td>10.0</td>\n",
              "      <td>f</td>\n",
              "      <td>0.0</td>\n",
              "      <td>0.0</td>\n",
              "      <td>3003.653644</td>\n",
              "      <td>3003.65</td>\n",
              "      <td>2400.00</td>\n",
              "      <td>603.65</td>\n",
              "      <td>0.0</td>\n",
              "      <td>0.00</td>\n",
              "      <td>0.00</td>\n",
              "      <td>Jun-14</td>\n",
              "      <td>649.91</td>\n",
              "      <td>NaN</td>\n",
              "      <td>Jan-16</td>\n",
              "      <td>0.0</td>\n",
              "      <td>1</td>\n",
              "      <td>INDIVIDUAL</td>\n",
              "      <td>0.0</td>\n",
              "      <td>NaN</td>\n",
              "      <td>NaN</td>\n",
              "      <td>NaN</td>\n",
              "    </tr>\n",
              "  </tbody>\n",
              "</table>\n",
              "</div>"
            ],
            "text/plain": [
              "        id  member_id  loan_amnt  ...  tot_coll_amt  tot_cur_bal total_rev_hi_lim\n",
              "0  1077501    1296599       5000  ...           NaN          NaN              NaN\n",
              "1  1077430    1314167       2500  ...           NaN          NaN              NaN\n",
              "2  1077175    1313524       2400  ...           NaN          NaN              NaN\n",
              "\n",
              "[3 rows x 55 columns]"
            ]
          },
          "metadata": {
            "tags": []
          },
          "execution_count": 14
        }
      ]
    },
    {
      "cell_type": "code",
      "metadata": {
        "colab": {
          "base_uri": "https://localhost:8080/"
        },
        "id": "hQGFq9AcwlLR",
        "outputId": "f36555bd-929a-4cb9-f0aa-3fb38f7b83b5"
      },
      "source": [
        "print(\"Shape of the new data after handling missing value columns : \" , new_data.shape)"
      ],
      "execution_count": 15,
      "outputs": [
        {
          "output_type": "stream",
          "text": [
            "Shape of the new data after handling missing value columns :  (466285, 55)\n"
          ],
          "name": "stdout"
        }
      ]
    },
    {
      "cell_type": "code",
      "metadata": {
        "colab": {
          "base_uri": "https://localhost:8080/"
        },
        "id": "qdKvPkC6wq_Z",
        "outputId": "4456c2a6-399f-4f19-f589-59feb725f07e"
      },
      "source": [
        "new_data.info()"
      ],
      "execution_count": 16,
      "outputs": [
        {
          "output_type": "stream",
          "text": [
            "<class 'pandas.core.frame.DataFrame'>\n",
            "RangeIndex: 466285 entries, 0 to 466284\n",
            "Data columns (total 55 columns):\n",
            " #   Column                      Non-Null Count   Dtype  \n",
            "---  ------                      --------------   -----  \n",
            " 0   id                          466285 non-null  int64  \n",
            " 1   member_id                   466285 non-null  int64  \n",
            " 2   loan_amnt                   466285 non-null  int64  \n",
            " 3   funded_amnt                 466285 non-null  int64  \n",
            " 4   funded_amnt_inv             466285 non-null  float64\n",
            " 5   term                        466285 non-null  object \n",
            " 6   int_rate                    466285 non-null  float64\n",
            " 7   installment                 466285 non-null  float64\n",
            " 8   grade                       466285 non-null  object \n",
            " 9   sub_grade                   466285 non-null  object \n",
            " 10  emp_title                   438697 non-null  object \n",
            " 11  emp_length                  445277 non-null  object \n",
            " 12  home_ownership              466285 non-null  object \n",
            " 13  annual_inc                  466281 non-null  float64\n",
            " 14  verification_status         466285 non-null  object \n",
            " 15  issue_d                     466285 non-null  object \n",
            " 16  loan_status                 466285 non-null  object \n",
            " 17  pymnt_plan                  466285 non-null  object \n",
            " 18  url                         466285 non-null  object \n",
            " 19  desc                        125983 non-null  object \n",
            " 20  purpose                     466285 non-null  object \n",
            " 21  title                       466265 non-null  object \n",
            " 22  zip_code                    466285 non-null  object \n",
            " 23  addr_state                  466285 non-null  object \n",
            " 24  dti                         466285 non-null  float64\n",
            " 25  delinq_2yrs                 466256 non-null  float64\n",
            " 26  earliest_cr_line            466256 non-null  object \n",
            " 27  inq_last_6mths              466256 non-null  float64\n",
            " 28  mths_since_last_delinq      215934 non-null  float64\n",
            " 29  open_acc                    466256 non-null  float64\n",
            " 30  pub_rec                     466256 non-null  float64\n",
            " 31  revol_bal                   466285 non-null  int64  \n",
            " 32  revol_util                  465945 non-null  float64\n",
            " 33  total_acc                   466256 non-null  float64\n",
            " 34  initial_list_status         466285 non-null  object \n",
            " 35  out_prncp                   466285 non-null  float64\n",
            " 36  out_prncp_inv               466285 non-null  float64\n",
            " 37  total_pymnt                 466285 non-null  float64\n",
            " 38  total_pymnt_inv             466285 non-null  float64\n",
            " 39  total_rec_prncp             466285 non-null  float64\n",
            " 40  total_rec_int               466285 non-null  float64\n",
            " 41  total_rec_late_fee          466285 non-null  float64\n",
            " 42  recoveries                  466285 non-null  float64\n",
            " 43  collection_recovery_fee     466285 non-null  float64\n",
            " 44  last_pymnt_d                465909 non-null  object \n",
            " 45  last_pymnt_amnt             466285 non-null  float64\n",
            " 46  next_pymnt_d                239071 non-null  object \n",
            " 47  last_credit_pull_d          466243 non-null  object \n",
            " 48  collections_12_mths_ex_med  466140 non-null  float64\n",
            " 49  policy_code                 466285 non-null  int64  \n",
            " 50  application_type            466285 non-null  object \n",
            " 51  acc_now_delinq              466256 non-null  float64\n",
            " 52  tot_coll_amt                396009 non-null  float64\n",
            " 53  tot_cur_bal                 396009 non-null  float64\n",
            " 54  total_rev_hi_lim            396009 non-null  float64\n",
            "dtypes: float64(27), int64(6), object(22)\n",
            "memory usage: 195.7+ MB\n"
          ],
          "name": "stdout"
        }
      ]
    },
    {
      "cell_type": "code",
      "metadata": {
        "colab": {
          "base_uri": "https://localhost:8080/"
        },
        "id": "nqIDzrsmwt_Q",
        "outputId": "d1eaaf2e-cd6b-410d-bc58-c9bf6830cc3a"
      },
      "source": [
        "for col in new_data.columns.values :\n",
        "  values = pd.unique(new_data[col])\n",
        "  print(\"\\033[1m\" + col + \"\\033[0m\" + \" is of type \" + \"\\033[1m\"+str(new_data[col].dtypes) + \"\\033[0m\" + \" and has \" + \"\\033[1m\"+ str(len(values)) + \"\\033[0m\" + \" unique values \" + \"and \" + \"\\033[1m\" +str(new_data[col].isna().sum()) + \"\\033[0m\" + \" null values\")\n",
        "  if len(values) < 20 :\n",
        "    lst = ''\n",
        "    for i in range(0 , len(values)) :\n",
        "      lst = lst + str(values[i]) + ' ,'\n",
        "    print(\"These are : \" , lst[0:len(lst)-2])"
      ],
      "execution_count": 17,
      "outputs": [
        {
          "output_type": "stream",
          "text": [
            "\u001b[1mid\u001b[0m is of type \u001b[1mint64\u001b[0m and has \u001b[1m466285\u001b[0m unique values and \u001b[1m0\u001b[0m null values\n",
            "\u001b[1mmember_id\u001b[0m is of type \u001b[1mint64\u001b[0m and has \u001b[1m466285\u001b[0m unique values and \u001b[1m0\u001b[0m null values\n",
            "\u001b[1mloan_amnt\u001b[0m is of type \u001b[1mint64\u001b[0m and has \u001b[1m1352\u001b[0m unique values and \u001b[1m0\u001b[0m null values\n",
            "\u001b[1mfunded_amnt\u001b[0m is of type \u001b[1mint64\u001b[0m and has \u001b[1m1354\u001b[0m unique values and \u001b[1m0\u001b[0m null values\n",
            "\u001b[1mfunded_amnt_inv\u001b[0m is of type \u001b[1mfloat64\u001b[0m and has \u001b[1m9854\u001b[0m unique values and \u001b[1m0\u001b[0m null values\n",
            "\u001b[1mterm\u001b[0m is of type \u001b[1mobject\u001b[0m and has \u001b[1m2\u001b[0m unique values and \u001b[1m0\u001b[0m null values\n",
            "These are :   36 months , 60 months\n",
            "\u001b[1mint_rate\u001b[0m is of type \u001b[1mfloat64\u001b[0m and has \u001b[1m506\u001b[0m unique values and \u001b[1m0\u001b[0m null values\n",
            "\u001b[1minstallment\u001b[0m is of type \u001b[1mfloat64\u001b[0m and has \u001b[1m55622\u001b[0m unique values and \u001b[1m0\u001b[0m null values\n",
            "\u001b[1mgrade\u001b[0m is of type \u001b[1mobject\u001b[0m and has \u001b[1m7\u001b[0m unique values and \u001b[1m0\u001b[0m null values\n",
            "These are :  B ,C ,A ,E ,F ,D ,G\n",
            "\u001b[1msub_grade\u001b[0m is of type \u001b[1mobject\u001b[0m and has \u001b[1m35\u001b[0m unique values and \u001b[1m0\u001b[0m null values\n",
            "\u001b[1memp_title\u001b[0m is of type \u001b[1mobject\u001b[0m and has \u001b[1m205476\u001b[0m unique values and \u001b[1m27588\u001b[0m null values\n",
            "\u001b[1memp_length\u001b[0m is of type \u001b[1mobject\u001b[0m and has \u001b[1m12\u001b[0m unique values and \u001b[1m21008\u001b[0m null values\n",
            "These are :  10+ years ,< 1 year ,1 year ,3 years ,8 years ,9 years ,4 years ,5 years ,6 years ,2 years ,7 years ,nan\n",
            "\u001b[1mhome_ownership\u001b[0m is of type \u001b[1mobject\u001b[0m and has \u001b[1m6\u001b[0m unique values and \u001b[1m0\u001b[0m null values\n",
            "These are :  RENT ,OWN ,MORTGAGE ,OTHER ,NONE ,ANY\n",
            "\u001b[1mannual_inc\u001b[0m is of type \u001b[1mfloat64\u001b[0m and has \u001b[1m31902\u001b[0m unique values and \u001b[1m4\u001b[0m null values\n",
            "\u001b[1mverification_status\u001b[0m is of type \u001b[1mobject\u001b[0m and has \u001b[1m3\u001b[0m unique values and \u001b[1m0\u001b[0m null values\n",
            "These are :  Verified ,Source Verified ,Not Verified\n",
            "\u001b[1missue_d\u001b[0m is of type \u001b[1mobject\u001b[0m and has \u001b[1m91\u001b[0m unique values and \u001b[1m0\u001b[0m null values\n",
            "\u001b[1mloan_status\u001b[0m is of type \u001b[1mobject\u001b[0m and has \u001b[1m9\u001b[0m unique values and \u001b[1m0\u001b[0m null values\n",
            "These are :  Fully Paid ,Charged Off ,Current ,Default ,Late (31-120 days) ,In Grace Period ,Late (16-30 days) ,Does not meet the credit policy. Status:Fully Paid ,Does not meet the credit policy. Status:Charged Off\n",
            "\u001b[1mpymnt_plan\u001b[0m is of type \u001b[1mobject\u001b[0m and has \u001b[1m2\u001b[0m unique values and \u001b[1m0\u001b[0m null values\n",
            "These are :  n ,y\n",
            "\u001b[1murl\u001b[0m is of type \u001b[1mobject\u001b[0m and has \u001b[1m466285\u001b[0m unique values and \u001b[1m0\u001b[0m null values\n",
            "\u001b[1mdesc\u001b[0m is of type \u001b[1mobject\u001b[0m and has \u001b[1m124437\u001b[0m unique values and \u001b[1m340302\u001b[0m null values\n",
            "\u001b[1mpurpose\u001b[0m is of type \u001b[1mobject\u001b[0m and has \u001b[1m14\u001b[0m unique values and \u001b[1m0\u001b[0m null values\n",
            "These are :  credit_card ,car ,small_business ,other ,wedding ,debt_consolidation ,home_improvement ,major_purchase ,medical ,moving ,vacation ,house ,renewable_energy ,educational\n",
            "\u001b[1mtitle\u001b[0m is of type \u001b[1mobject\u001b[0m and has \u001b[1m63100\u001b[0m unique values and \u001b[1m20\u001b[0m null values\n",
            "\u001b[1mzip_code\u001b[0m is of type \u001b[1mobject\u001b[0m and has \u001b[1m888\u001b[0m unique values and \u001b[1m0\u001b[0m null values\n",
            "\u001b[1maddr_state\u001b[0m is of type \u001b[1mobject\u001b[0m and has \u001b[1m50\u001b[0m unique values and \u001b[1m0\u001b[0m null values\n",
            "\u001b[1mdti\u001b[0m is of type \u001b[1mfloat64\u001b[0m and has \u001b[1m3997\u001b[0m unique values and \u001b[1m0\u001b[0m null values\n",
            "\u001b[1mdelinq_2yrs\u001b[0m is of type \u001b[1mfloat64\u001b[0m and has \u001b[1m25\u001b[0m unique values and \u001b[1m29\u001b[0m null values\n",
            "\u001b[1mearliest_cr_line\u001b[0m is of type \u001b[1mobject\u001b[0m and has \u001b[1m665\u001b[0m unique values and \u001b[1m29\u001b[0m null values\n",
            "\u001b[1minq_last_6mths\u001b[0m is of type \u001b[1mfloat64\u001b[0m and has \u001b[1m29\u001b[0m unique values and \u001b[1m29\u001b[0m null values\n",
            "\u001b[1mmths_since_last_delinq\u001b[0m is of type \u001b[1mfloat64\u001b[0m and has \u001b[1m146\u001b[0m unique values and \u001b[1m250351\u001b[0m null values\n",
            "\u001b[1mopen_acc\u001b[0m is of type \u001b[1mfloat64\u001b[0m and has \u001b[1m63\u001b[0m unique values and \u001b[1m29\u001b[0m null values\n",
            "\u001b[1mpub_rec\u001b[0m is of type \u001b[1mfloat64\u001b[0m and has \u001b[1m27\u001b[0m unique values and \u001b[1m29\u001b[0m null values\n",
            "\u001b[1mrevol_bal\u001b[0m is of type \u001b[1mint64\u001b[0m and has \u001b[1m58142\u001b[0m unique values and \u001b[1m0\u001b[0m null values\n",
            "\u001b[1mrevol_util\u001b[0m is of type \u001b[1mfloat64\u001b[0m and has \u001b[1m1270\u001b[0m unique values and \u001b[1m340\u001b[0m null values\n",
            "\u001b[1mtotal_acc\u001b[0m is of type \u001b[1mfloat64\u001b[0m and has \u001b[1m113\u001b[0m unique values and \u001b[1m29\u001b[0m null values\n",
            "\u001b[1minitial_list_status\u001b[0m is of type \u001b[1mobject\u001b[0m and has \u001b[1m2\u001b[0m unique values and \u001b[1m0\u001b[0m null values\n",
            "These are :  f ,w\n",
            "\u001b[1mout_prncp\u001b[0m is of type \u001b[1mfloat64\u001b[0m and has \u001b[1m135665\u001b[0m unique values and \u001b[1m0\u001b[0m null values\n",
            "\u001b[1mout_prncp_inv\u001b[0m is of type \u001b[1mfloat64\u001b[0m and has \u001b[1m141189\u001b[0m unique values and \u001b[1m0\u001b[0m null values\n",
            "\u001b[1mtotal_pymnt\u001b[0m is of type \u001b[1mfloat64\u001b[0m and has \u001b[1m351609\u001b[0m unique values and \u001b[1m0\u001b[0m null values\n",
            "\u001b[1mtotal_pymnt_inv\u001b[0m is of type \u001b[1mfloat64\u001b[0m and has \u001b[1m347659\u001b[0m unique values and \u001b[1m0\u001b[0m null values\n",
            "\u001b[1mtotal_rec_prncp\u001b[0m is of type \u001b[1mfloat64\u001b[0m and has \u001b[1m172713\u001b[0m unique values and \u001b[1m0\u001b[0m null values\n",
            "\u001b[1mtotal_rec_int\u001b[0m is of type \u001b[1mfloat64\u001b[0m and has \u001b[1m270249\u001b[0m unique values and \u001b[1m0\u001b[0m null values\n",
            "\u001b[1mtotal_rec_late_fee\u001b[0m is of type \u001b[1mfloat64\u001b[0m and has \u001b[1m5808\u001b[0m unique values and \u001b[1m0\u001b[0m null values\n",
            "\u001b[1mrecoveries\u001b[0m is of type \u001b[1mfloat64\u001b[0m and has \u001b[1m22773\u001b[0m unique values and \u001b[1m0\u001b[0m null values\n",
            "\u001b[1mcollection_recovery_fee\u001b[0m is of type \u001b[1mfloat64\u001b[0m and has \u001b[1m20275\u001b[0m unique values and \u001b[1m0\u001b[0m null values\n",
            "\u001b[1mlast_pymnt_d\u001b[0m is of type \u001b[1mobject\u001b[0m and has \u001b[1m99\u001b[0m unique values and \u001b[1m376\u001b[0m null values\n",
            "\u001b[1mlast_pymnt_amnt\u001b[0m is of type \u001b[1mfloat64\u001b[0m and has \u001b[1m198194\u001b[0m unique values and \u001b[1m0\u001b[0m null values\n",
            "\u001b[1mnext_pymnt_d\u001b[0m is of type \u001b[1mobject\u001b[0m and has \u001b[1m101\u001b[0m unique values and \u001b[1m227214\u001b[0m null values\n",
            "\u001b[1mlast_credit_pull_d\u001b[0m is of type \u001b[1mobject\u001b[0m and has \u001b[1m104\u001b[0m unique values and \u001b[1m42\u001b[0m null values\n",
            "\u001b[1mcollections_12_mths_ex_med\u001b[0m is of type \u001b[1mfloat64\u001b[0m and has \u001b[1m10\u001b[0m unique values and \u001b[1m145\u001b[0m null values\n",
            "These are :  0.0 ,nan ,1.0 ,2.0 ,4.0 ,3.0 ,6.0 ,16.0 ,20.0 ,5.0\n",
            "\u001b[1mpolicy_code\u001b[0m is of type \u001b[1mint64\u001b[0m and has \u001b[1m1\u001b[0m unique values and \u001b[1m0\u001b[0m null values\n",
            "These are :  1\n",
            "\u001b[1mapplication_type\u001b[0m is of type \u001b[1mobject\u001b[0m and has \u001b[1m1\u001b[0m unique values and \u001b[1m0\u001b[0m null values\n",
            "These are :  INDIVIDUAL\n",
            "\u001b[1macc_now_delinq\u001b[0m is of type \u001b[1mfloat64\u001b[0m and has \u001b[1m7\u001b[0m unique values and \u001b[1m29\u001b[0m null values\n",
            "These are :  0.0 ,1.0 ,nan ,2.0 ,3.0 ,5.0 ,4.0\n",
            "\u001b[1mtot_coll_amt\u001b[0m is of type \u001b[1mfloat64\u001b[0m and has \u001b[1m6322\u001b[0m unique values and \u001b[1m70276\u001b[0m null values\n",
            "\u001b[1mtot_cur_bal\u001b[0m is of type \u001b[1mfloat64\u001b[0m and has \u001b[1m220691\u001b[0m unique values and \u001b[1m70276\u001b[0m null values\n",
            "\u001b[1mtotal_rev_hi_lim\u001b[0m is of type \u001b[1mfloat64\u001b[0m and has \u001b[1m14613\u001b[0m unique values and \u001b[1m70276\u001b[0m null values\n"
          ],
          "name": "stdout"
        }
      ]
    },
    {
      "cell_type": "code",
      "metadata": {
        "colab": {
          "base_uri": "https://localhost:8080/",
          "height": 1000
        },
        "id": "yHkHa_Ulw_2B",
        "outputId": "c7cdd0a3-18d7-41a2-ba25-d315c3a99666"
      },
      "source": [
        "for col in new_data.columns.values :\n",
        "  if (new_data[col].dtype == \"int64\")  | (new_data[col].dtype == \"float64\" ) :\n",
        "    plt.hist(new_data[col])\n",
        "    plt.xlabel(col)\n",
        "    plt.show()"
      ],
      "execution_count": 18,
      "outputs": [
        {
          "output_type": "display_data",
          "data": {
            "image/png": "[encoded data removed]",
            "text/plain": [
              "<Figure size 432x288 with 1 Axes>"
            ]
          },
          "metadata": {
            "tags": [],
            "needs_background": "light"
          }
        },
        {
          "output_type": "display_data",
          "data": {
            "image/png": "[encoded data removed]",
            "text/plain": [
              "<Figure size 432x288 with 1 Axes>"
            ]
          },
          "metadata": {
            "tags": [],
            "needs_background": "light"
          }
        },
        {
          "output_type": "display_data",
          "data": {
            "image/png": "[encoded data removed]",
            "text/plain": [
              "<Figure size 432x288 with 1 Axes>"
            ]
          },
          "metadata": {
            "tags": [],
            "needs_background": "light"
          }
        },
        {
          "output_type": "display_data",
          "data": {
            "image/png": "[encoded data removed]",
            "text/plain": [
              "<Figure size 432x288 with 1 Axes>"
            ]
          },
          "metadata": {
            "tags": [],
            "needs_background": "light"
          }
        },
        {
          "output_type": "display_data",
          "data": {
            "image/png": "[encoded data removed]",
            "text/plain": [
              "<Figure size 432x288 with 1 Axes>"
            ]
          },
          "metadata": {
            "tags": [],
            "needs_background": "light"
          }
        },
        {
          "output_type": "display_data",
          "data": {
            "image/png": "[encoded data removed]",
            "text/plain": [
              "<Figure size 432x288 with 1 Axes>"
            ]
          },
          "metadata": {
            "tags": [],
            "needs_background": "light"
          }
        },
        {
          "output_type": "display_data",
          "data": {
            "image/png": "[encoded data removed]",
            "text/plain": [
              "<Figure size 432x288 with 1 Axes>"
            ]
          },
          "metadata": {
            "tags": [],
            "needs_background": "light"
          }
        },
        {
          "output_type": "display_data",
          "data": {
            "image/png": "[encoded data removed]",
            "text/plain": [
              "<Figure size 432x288 with 1 Axes>"
            ]
          },
          "metadata": {
            "tags": [],
            "needs_background": "light"
          }
        },
        {
          "output_type": "display_data",
          "data": {
            "image/png": "[encoded data removed]",
            "text/plain": [
              "<Figure size 432x288 with 1 Axes>"
            ]
          },
          "metadata": {
            "tags": [],
            "needs_background": "light"
          }
        },
        {
          "output_type": "display_data",
          "data": {
            "image/png": "[encoded data removed]",
            "text/plain": [
              "<Figure size 432x288 with 1 Axes>"
            ]
          },
          "metadata": {
            "tags": [],
            "needs_background": "light"
          }
        },
        {
          "output_type": "display_data",
          "data": {
            "image/png": "[encoded data removed]",
            "text/plain": [
              "<Figure size 432x288 with 1 Axes>"
            ]
          },
          "metadata": {
            "tags": [],
            "needs_background": "light"
          }
        },
        {
          "output_type": "display_data",
          "data": {
            "image/png": "[encoded data removed]",
            "text/plain": [
              "<Figure size 432x288 with 1 Axes>"
            ]
          },
          "metadata": {
            "tags": [],
            "needs_background": "light"
          }
        },
        {
          "output_type": "display_data",
          "data": {
            "image/png": "[encoded data removed]",
            "text/plain": [
              "<Figure size 432x288 with 1 Axes>"
            ]
          },
          "metadata": {
            "tags": [],
            "needs_background": "light"
          }
        },
        {
          "output_type": "display_data",
          "data": {
            "image/png": "[encoded data removed]",
            "text/plain": [
              "<Figure size 432x288 with 1 Axes>"
            ]
          },
          "metadata": {
            "tags": [],
            "needs_background": "light"
          }
        },
        {
          "output_type": "display_data",
          "data": {
            "image/png": "[encoded data removed]",
            "text/plain": [
              "<Figure size 432x288 with 1 Axes>"
            ]
          },
          "metadata": {
            "tags": [],
            "needs_background": "light"
          }
        },
        {
          "output_type": "display_data",
          "data": {
            "image/png": "[encoded data removed]",
            "text/plain": [
              "<Figure size 432x288 with 1 Axes>"
            ]
          },
          "metadata": {
            "tags": [],
            "needs_background": "light"
          }
        },
        {
          "output_type": "display_data",
          "data": {
            "image/png": "[encoded data removed]",
            "text/plain": [
              "<Figure size 432x288 with 1 Axes>"
            ]
          },
          "metadata": {
            "tags": [],
            "needs_background": "light"
          }
        },
        {
          "output_type": "display_data",
          "data": {
            "image/png": "[encoded data removed]",
            "text/plain": [
              "<Figure size 432x288 with 1 Axes>"
            ]
          },
          "metadata": {
            "tags": [],
            "needs_background": "light"
          }
        },
        {
          "output_type": "display_data",
          "data": {
            "image/png": "[encoded data removed]",
            "text/plain": [
              "<Figure size 432x288 with 1 Axes>"
            ]
          },
          "metadata": {
            "tags": [],
            "needs_background": "light"
          }
        },
        {
          "output_type": "display_data",
          "data": {
            "image/png": "[encoded data removed]",
            "text/plain": [
              "<Figure size 432x288 with 1 Axes>"
            ]
          },
          "metadata": {
            "tags": [],
            "needs_background": "light"
          }
        },
        {
          "output_type": "display_data",
          "data": {
            "image/png": "[encoded data removed]",
            "text/plain": [
              "<Figure size 432x288 with 1 Axes>"
            ]
          },
          "metadata": {
            "tags": [],
            "needs_background": "light"
          }
        },
        {
          "output_type": "display_data",
          "data": {
            "image/png": "[encoded data removed]",
            "text/plain": [
              "<Figure size 432x288 with 1 Axes>"
            ]
          },
          "metadata": {
            "tags": [],
            "needs_background": "light"
          }
        },
        {
          "output_type": "display_data",
          "data": {
            "image/png": "[encoded data removed]",
            "text/plain": [
              "<Figure size 432x288 with 1 Axes>"
            ]
          },
          "metadata": {
            "tags": [],
            "needs_background": "light"
          }
        },
        {
          "output_type": "display_data",
          "data": {
            "image/png": "[encoded data removed]",
            "text/plain": [
              "<Figure size 432x288 with 1 Axes>"
            ]
          },
          "metadata": {
            "tags": [],
            "needs_background": "light"
          }
        },
        {
          "output_type": "display_data",
          "data": {
            "image/png": "[encoded data removed]",
            "text/plain": [
              "<Figure size 432x288 with 1 Axes>"
            ]
          },
          "metadata": {
            "tags": [],
            "needs_background": "light"
          }
        },
        {
          "output_type": "display_data",
          "data": {
            "image/png": "[encoded data removed]",
            "text/plain": [
              "<Figure size 432x288 with 1 Axes>"
            ]
          },
          "metadata": {
            "tags": [],
            "needs_background": "light"
          }
        },
        {
          "output_type": "display_data",
          "data": {
            "image/png": "[encoded data removed]",
            "text/plain": [
              "<Figure size 432x288 with 1 Axes>"
            ]
          },
          "metadata": {
            "tags": [],
            "needs_background": "light"
          }
        },
        {
          "output_type": "display_data",
          "data": {
            "image/png": "[encoded data removed]",
            "text/plain": [
              "<Figure size 432x288 with 1 Axes>"
            ]
          },
          "metadata": {
            "tags": [],
            "needs_background": "light"
          }
        },
        {
          "output_type": "display_data",
          "data": {
            "image/png": "[encoded data removed]",
            "text/plain": [
              "<Figure size 432x288 with 1 Axes>"
            ]
          },
          "metadata": {
            "tags": [],
            "needs_background": "light"
          }
        },
        {
          "output_type": "display_data",
          "data": {
            "image/png": "[encoded data removed]",
            "text/plain": [
              "<Figure size 432x288 with 1 Axes>"
            ]
          },
          "metadata": {
            "tags": [],
            "needs_background": "light"
          }
        },
        {
          "output_type": "display_data",
          "data": {
            "image/png": "[encoded data removed]",
            "text/plain": [
              "<Figure size 432x288 with 1 Axes>"
            ]
          },
          "metadata": {
            "tags": [],
            "needs_background": "light"
          }
        },
        {
          "output_type": "display_data",
          "data": {
            "image/png": "[encoded data removed]",
            "text/plain": [
              "<Figure size 432x288 with 1 Axes>"
            ]
          },
          "metadata": {
            "tags": [],
            "needs_background": "light"
          }
        },
        {
          "output_type": "display_data",
          "data": {
            "image/png": "[encoded data removed]",
            "text/plain": [
              "<Figure size 432x288 with 1 Axes>"
            ]
          },
          "metadata": {
            "tags": [],
            "needs_background": "light"
          }
        }
      ]
    },
    {
      "cell_type": "code",
      "metadata": {
        "colab": {
          "base_uri": "https://localhost:8080/",
          "height": 1000
        },
        "id": "nDBR8FOAyRW1",
        "outputId": "a4b6a954-2d38-43f1-c992-004da904a48d"
      },
      "source": [
        "for col in new_data.columns.values :\n",
        "  try:\n",
        "    if (new_data[col].dtype == \"object\") :\n",
        "      plt.hist(new_data[col])\n",
        "      plt.xlabel(col)\n",
        "      plt.show()\n",
        "  except :\n",
        "    continue"
      ],
      "execution_count": 19,
      "outputs": [
        {
          "output_type": "display_data",
          "data": {
            "image/png": "[encoded data removed]",
            "text/plain": [
              "<Figure size 432x288 with 1 Axes>"
            ]
          },
          "metadata": {
            "tags": [],
            "needs_background": "light"
          }
        },
        {
          "output_type": "display_data",
          "data": {
            "image/png": "[encoded data removed]",
            "text/plain": [
              "<Figure size 432x288 with 1 Axes>"
            ]
          },
          "metadata": {
            "tags": [],
            "needs_background": "light"
          }
        },
        {
          "output_type": "display_data",
          "data": {
            "image/png": "[encoded data removed]",
            "text/plain": [
              "<Figure size 432x288 with 1 Axes>"
            ]
          },
          "metadata": {
            "tags": [],
            "needs_background": "light"
          }
        },
        {
          "output_type": "display_data",
          "data": {
            "image/png": "[encoded data removed]",
            "text/plain": [
              "<Figure size 432x288 with 1 Axes>"
            ]
          },
          "metadata": {
            "tags": [],
            "needs_background": "light"
          }
        }
      ]
    },
    {
      "cell_type": "markdown",
      "metadata": {
        "id": "-i6wY_LQiQTe"
      },
      "source": [
        "$\\text{Dropping columns which are not much informative with respect to our prediction or which have very less variations in them or does not have much good spread.}$"
      ]
    },
    {
      "cell_type": "code",
      "metadata": {
        "colab": {
          "base_uri": "https://localhost:8080/",
          "height": 660
        },
        "id": "KfWJhVNO4_GS",
        "outputId": "e7ab7c8a-b93f-43c9-e869-05e25f9da146"
      },
      "source": [
        "new_data.head()"
      ],
      "execution_count": 20,
      "outputs": [
        {
          "output_type": "execute_result",
          "data": {
            "text/html": [
              "<div>\n",
              "<style scoped>\n",
              "    .dataframe tbody tr th:only-of-type {\n",
              "        vertical-align: middle;\n",
              "    }\n",
              "\n",
              "    .dataframe tbody tr th {\n",
              "        vertical-align: top;\n",
              "    }\n",
              "\n",
              "    .dataframe thead th {\n",
              "        text-align: right;\n",
              "    }\n",
              "</style>\n",
              "<table border=\"1\" class=\"dataframe\">\n",
              "  <thead>\n",
              "    <tr style=\"text-align: right;\">\n",
              "      <th></th>\n",
              "      <th>id</th>\n",
              "      <th>member_id</th>\n",
              "      <th>loan_amnt</th>\n",
              "      <th>funded_amnt</th>\n",
              "      <th>funded_amnt_inv</th>\n",
              "      <th>term</th>\n",
              "      <th>int_rate</th>\n",
              "      <th>installment</th>\n",
              "      <th>grade</th>\n",
              "      <th>sub_grade</th>\n",
              "      <th>emp_title</th>\n",
              "      <th>emp_length</th>\n",
              "      <th>home_ownership</th>\n",
              "      <th>annual_inc</th>\n",
              "      <th>verification_status</th>\n",
              "      <th>issue_d</th>\n",
              "      <th>loan_status</th>\n",
              "      <th>pymnt_plan</th>\n",
              "      <th>url</th>\n",
              "      <th>desc</th>\n",
              "      <th>purpose</th>\n",
              "      <th>title</th>\n",
              "      <th>zip_code</th>\n",
              "      <th>addr_state</th>\n",
              "      <th>dti</th>\n",
              "      <th>delinq_2yrs</th>\n",
              "      <th>earliest_cr_line</th>\n",
              "      <th>inq_last_6mths</th>\n",
              "      <th>mths_since_last_delinq</th>\n",
              "      <th>open_acc</th>\n",
              "      <th>pub_rec</th>\n",
              "      <th>revol_bal</th>\n",
              "      <th>revol_util</th>\n",
              "      <th>total_acc</th>\n",
              "      <th>initial_list_status</th>\n",
              "      <th>out_prncp</th>\n",
              "      <th>out_prncp_inv</th>\n",
              "      <th>total_pymnt</th>\n",
              "      <th>total_pymnt_inv</th>\n",
              "      <th>total_rec_prncp</th>\n",
              "      <th>total_rec_int</th>\n",
              "      <th>total_rec_late_fee</th>\n",
              "      <th>recoveries</th>\n",
              "      <th>collection_recovery_fee</th>\n",
              "      <th>last_pymnt_d</th>\n",
              "      <th>last_pymnt_amnt</th>\n",
              "      <th>next_pymnt_d</th>\n",
              "      <th>last_credit_pull_d</th>\n",
              "      <th>collections_12_mths_ex_med</th>\n",
              "      <th>policy_code</th>\n",
              "      <th>application_type</th>\n",
              "      <th>acc_now_delinq</th>\n",
              "      <th>tot_coll_amt</th>\n",
              "      <th>tot_cur_bal</th>\n",
              "      <th>total_rev_hi_lim</th>\n",
              "    </tr>\n",
              "  </thead>\n",
              "  <tbody>\n",
              "    <tr>\n",
              "      <th>0</th>\n",
              "      <td>1077501</td>\n",
              "      <td>1296599</td>\n",
              "      <td>5000</td>\n",
              "      <td>5000</td>\n",
              "      <td>4975.0</td>\n",
              "      <td>36 months</td>\n",
              "      <td>10.65</td>\n",
              "      <td>162.87</td>\n",
              "      <td>B</td>\n",
              "      <td>B2</td>\n",
              "      <td>NaN</td>\n",
              "      <td>10+ years</td>\n",
              "      <td>RENT</td>\n",
              "      <td>24000.0</td>\n",
              "      <td>Verified</td>\n",
              "      <td>Dec-11</td>\n",
              "      <td>Fully Paid</td>\n",
              "      <td>n</td>\n",
              "      <td>https://www.lendingclub.com/browse/loanDetail....</td>\n",
              "      <td>Borrower added on 12/22/11 &gt; I need to upgra...</td>\n",
              "      <td>credit_card</td>\n",
              "      <td>Computer</td>\n",
              "      <td>860xx</td>\n",
              "      <td>AZ</td>\n",
              "      <td>27.65</td>\n",
              "      <td>0.0</td>\n",
              "      <td>Jan-85</td>\n",
              "      <td>1.0</td>\n",
              "      <td>NaN</td>\n",
              "      <td>3.0</td>\n",
              "      <td>0.0</td>\n",
              "      <td>13648</td>\n",
              "      <td>83.7</td>\n",
              "      <td>9.0</td>\n",
              "      <td>f</td>\n",
              "      <td>0.0</td>\n",
              "      <td>0.0</td>\n",
              "      <td>5861.071414</td>\n",
              "      <td>5831.78</td>\n",
              "      <td>5000.00</td>\n",
              "      <td>861.07</td>\n",
              "      <td>0.00</td>\n",
              "      <td>0.00</td>\n",
              "      <td>0.00</td>\n",
              "      <td>Jan-15</td>\n",
              "      <td>171.62</td>\n",
              "      <td>NaN</td>\n",
              "      <td>Jan-16</td>\n",
              "      <td>0.0</td>\n",
              "      <td>1</td>\n",
              "      <td>INDIVIDUAL</td>\n",
              "      <td>0.0</td>\n",
              "      <td>NaN</td>\n",
              "      <td>NaN</td>\n",
              "      <td>NaN</td>\n",
              "    </tr>\n",
              "    <tr>\n",
              "      <th>1</th>\n",
              "      <td>1077430</td>\n",
              "      <td>1314167</td>\n",
              "      <td>2500</td>\n",
              "      <td>2500</td>\n",
              "      <td>2500.0</td>\n",
              "      <td>60 months</td>\n",
              "      <td>15.27</td>\n",
              "      <td>59.83</td>\n",
              "      <td>C</td>\n",
              "      <td>C4</td>\n",
              "      <td>Ryder</td>\n",
              "      <td>&lt; 1 year</td>\n",
              "      <td>RENT</td>\n",
              "      <td>30000.0</td>\n",
              "      <td>Source Verified</td>\n",
              "      <td>Dec-11</td>\n",
              "      <td>Charged Off</td>\n",
              "      <td>n</td>\n",
              "      <td>https://www.lendingclub.com/browse/loanDetail....</td>\n",
              "      <td>Borrower added on 12/22/11 &gt; I plan to use t...</td>\n",
              "      <td>car</td>\n",
              "      <td>bike</td>\n",
              "      <td>309xx</td>\n",
              "      <td>GA</td>\n",
              "      <td>1.00</td>\n",
              "      <td>0.0</td>\n",
              "      <td>Apr-99</td>\n",
              "      <td>5.0</td>\n",
              "      <td>NaN</td>\n",
              "      <td>3.0</td>\n",
              "      <td>0.0</td>\n",
              "      <td>1687</td>\n",
              "      <td>9.4</td>\n",
              "      <td>4.0</td>\n",
              "      <td>f</td>\n",
              "      <td>0.0</td>\n",
              "      <td>0.0</td>\n",
              "      <td>1008.710000</td>\n",
              "      <td>1008.71</td>\n",
              "      <td>456.46</td>\n",
              "      <td>435.17</td>\n",
              "      <td>0.00</td>\n",
              "      <td>117.08</td>\n",
              "      <td>1.11</td>\n",
              "      <td>Apr-13</td>\n",
              "      <td>119.66</td>\n",
              "      <td>NaN</td>\n",
              "      <td>Sep-13</td>\n",
              "      <td>0.0</td>\n",
              "      <td>1</td>\n",
              "      <td>INDIVIDUAL</td>\n",
              "      <td>0.0</td>\n",
              "      <td>NaN</td>\n",
              "      <td>NaN</td>\n",
              "      <td>NaN</td>\n",
              "    </tr>\n",
              "    <tr>\n",
              "      <th>2</th>\n",
              "      <td>1077175</td>\n",
              "      <td>1313524</td>\n",
              "      <td>2400</td>\n",
              "      <td>2400</td>\n",
              "      <td>2400.0</td>\n",
              "      <td>36 months</td>\n",
              "      <td>15.96</td>\n",
              "      <td>84.33</td>\n",
              "      <td>C</td>\n",
              "      <td>C5</td>\n",
              "      <td>NaN</td>\n",
              "      <td>10+ years</td>\n",
              "      <td>RENT</td>\n",
              "      <td>12252.0</td>\n",
              "      <td>Not Verified</td>\n",
              "      <td>Dec-11</td>\n",
              "      <td>Fully Paid</td>\n",
              "      <td>n</td>\n",
              "      <td>https://www.lendingclub.com/browse/loanDetail....</td>\n",
              "      <td>NaN</td>\n",
              "      <td>small_business</td>\n",
              "      <td>real estate business</td>\n",
              "      <td>606xx</td>\n",
              "      <td>IL</td>\n",
              "      <td>8.72</td>\n",
              "      <td>0.0</td>\n",
              "      <td>Nov-01</td>\n",
              "      <td>2.0</td>\n",
              "      <td>NaN</td>\n",
              "      <td>2.0</td>\n",
              "      <td>0.0</td>\n",
              "      <td>2956</td>\n",
              "      <td>98.5</td>\n",
              "      <td>10.0</td>\n",
              "      <td>f</td>\n",
              "      <td>0.0</td>\n",
              "      <td>0.0</td>\n",
              "      <td>3003.653644</td>\n",
              "      <td>3003.65</td>\n",
              "      <td>2400.00</td>\n",
              "      <td>603.65</td>\n",
              "      <td>0.00</td>\n",
              "      <td>0.00</td>\n",
              "      <td>0.00</td>\n",
              "      <td>Jun-14</td>\n",
              "      <td>649.91</td>\n",
              "      <td>NaN</td>\n",
              "      <td>Jan-16</td>\n",
              "      <td>0.0</td>\n",
              "      <td>1</td>\n",
              "      <td>INDIVIDUAL</td>\n",
              "      <td>0.0</td>\n",
              "      <td>NaN</td>\n",
              "      <td>NaN</td>\n",
              "      <td>NaN</td>\n",
              "    </tr>\n",
              "    <tr>\n",
              "      <th>3</th>\n",
              "      <td>1076863</td>\n",
              "      <td>1277178</td>\n",
              "      <td>10000</td>\n",
              "      <td>10000</td>\n",
              "      <td>10000.0</td>\n",
              "      <td>36 months</td>\n",
              "      <td>13.49</td>\n",
              "      <td>339.31</td>\n",
              "      <td>C</td>\n",
              "      <td>C1</td>\n",
              "      <td>AIR RESOURCES BOARD</td>\n",
              "      <td>10+ years</td>\n",
              "      <td>RENT</td>\n",
              "      <td>49200.0</td>\n",
              "      <td>Source Verified</td>\n",
              "      <td>Dec-11</td>\n",
              "      <td>Fully Paid</td>\n",
              "      <td>n</td>\n",
              "      <td>https://www.lendingclub.com/browse/loanDetail....</td>\n",
              "      <td>Borrower added on 12/21/11 &gt; to pay for prop...</td>\n",
              "      <td>other</td>\n",
              "      <td>personel</td>\n",
              "      <td>917xx</td>\n",
              "      <td>CA</td>\n",
              "      <td>20.00</td>\n",
              "      <td>0.0</td>\n",
              "      <td>Feb-96</td>\n",
              "      <td>1.0</td>\n",
              "      <td>35.0</td>\n",
              "      <td>10.0</td>\n",
              "      <td>0.0</td>\n",
              "      <td>5598</td>\n",
              "      <td>21.0</td>\n",
              "      <td>37.0</td>\n",
              "      <td>f</td>\n",
              "      <td>0.0</td>\n",
              "      <td>0.0</td>\n",
              "      <td>12226.302210</td>\n",
              "      <td>12226.30</td>\n",
              "      <td>10000.00</td>\n",
              "      <td>2209.33</td>\n",
              "      <td>16.97</td>\n",
              "      <td>0.00</td>\n",
              "      <td>0.00</td>\n",
              "      <td>Jan-15</td>\n",
              "      <td>357.48</td>\n",
              "      <td>NaN</td>\n",
              "      <td>Jan-15</td>\n",
              "      <td>0.0</td>\n",
              "      <td>1</td>\n",
              "      <td>INDIVIDUAL</td>\n",
              "      <td>0.0</td>\n",
              "      <td>NaN</td>\n",
              "      <td>NaN</td>\n",
              "      <td>NaN</td>\n",
              "    </tr>\n",
              "    <tr>\n",
              "      <th>4</th>\n",
              "      <td>1075358</td>\n",
              "      <td>1311748</td>\n",
              "      <td>3000</td>\n",
              "      <td>3000</td>\n",
              "      <td>3000.0</td>\n",
              "      <td>60 months</td>\n",
              "      <td>12.69</td>\n",
              "      <td>67.79</td>\n",
              "      <td>B</td>\n",
              "      <td>B5</td>\n",
              "      <td>University Medical Group</td>\n",
              "      <td>1 year</td>\n",
              "      <td>RENT</td>\n",
              "      <td>80000.0</td>\n",
              "      <td>Source Verified</td>\n",
              "      <td>Dec-11</td>\n",
              "      <td>Current</td>\n",
              "      <td>n</td>\n",
              "      <td>https://www.lendingclub.com/browse/loanDetail....</td>\n",
              "      <td>Borrower added on 12/21/11 &gt; I plan on combi...</td>\n",
              "      <td>other</td>\n",
              "      <td>Personal</td>\n",
              "      <td>972xx</td>\n",
              "      <td>OR</td>\n",
              "      <td>17.94</td>\n",
              "      <td>0.0</td>\n",
              "      <td>Jan-96</td>\n",
              "      <td>0.0</td>\n",
              "      <td>38.0</td>\n",
              "      <td>15.0</td>\n",
              "      <td>0.0</td>\n",
              "      <td>27783</td>\n",
              "      <td>53.9</td>\n",
              "      <td>38.0</td>\n",
              "      <td>f</td>\n",
              "      <td>766.9</td>\n",
              "      <td>766.9</td>\n",
              "      <td>3242.170000</td>\n",
              "      <td>3242.17</td>\n",
              "      <td>2233.10</td>\n",
              "      <td>1009.07</td>\n",
              "      <td>0.00</td>\n",
              "      <td>0.00</td>\n",
              "      <td>0.00</td>\n",
              "      <td>Jan-16</td>\n",
              "      <td>67.79</td>\n",
              "      <td>Feb-16</td>\n",
              "      <td>Jan-16</td>\n",
              "      <td>0.0</td>\n",
              "      <td>1</td>\n",
              "      <td>INDIVIDUAL</td>\n",
              "      <td>0.0</td>\n",
              "      <td>NaN</td>\n",
              "      <td>NaN</td>\n",
              "      <td>NaN</td>\n",
              "    </tr>\n",
              "  </tbody>\n",
              "</table>\n",
              "</div>"
            ],
            "text/plain": [
              "        id  member_id  loan_amnt  ...  tot_coll_amt  tot_cur_bal total_rev_hi_lim\n",
              "0  1077501    1296599       5000  ...           NaN          NaN              NaN\n",
              "1  1077430    1314167       2500  ...           NaN          NaN              NaN\n",
              "2  1077175    1313524       2400  ...           NaN          NaN              NaN\n",
              "3  1076863    1277178      10000  ...           NaN          NaN              NaN\n",
              "4  1075358    1311748       3000  ...           NaN          NaN              NaN\n",
              "\n",
              "[5 rows x 55 columns]"
            ]
          },
          "metadata": {
            "tags": []
          },
          "execution_count": 20
        }
      ]
    },
    {
      "cell_type": "code",
      "metadata": {
        "colab": {
          "base_uri": "https://localhost:8080/"
        },
        "id": "yt6ftBZAliqO",
        "outputId": "ab93784e-6919-4b0d-ea45-613c1eeebb7c"
      },
      "source": [
        "new_data.columns"
      ],
      "execution_count": 21,
      "outputs": [
        {
          "output_type": "execute_result",
          "data": {
            "text/plain": [
              "Index(['id', 'member_id', 'loan_amnt', 'funded_amnt', 'funded_amnt_inv',\n",
              "       'term', 'int_rate', 'installment', 'grade', 'sub_grade', 'emp_title',\n",
              "       'emp_length', 'home_ownership', 'annual_inc', 'verification_status',\n",
              "       'issue_d', 'loan_status', 'pymnt_plan', 'url', 'desc', 'purpose',\n",
              "       'title', 'zip_code', 'addr_state', 'dti', 'delinq_2yrs',\n",
              "       'earliest_cr_line', 'inq_last_6mths', 'mths_since_last_delinq',\n",
              "       'open_acc', 'pub_rec', 'revol_bal', 'revol_util', 'total_acc',\n",
              "       'initial_list_status', 'out_prncp', 'out_prncp_inv', 'total_pymnt',\n",
              "       'total_pymnt_inv', 'total_rec_prncp', 'total_rec_int',\n",
              "       'total_rec_late_fee', 'recoveries', 'collection_recovery_fee',\n",
              "       'last_pymnt_d', 'last_pymnt_amnt', 'next_pymnt_d', 'last_credit_pull_d',\n",
              "       'collections_12_mths_ex_med', 'policy_code', 'application_type',\n",
              "       'acc_now_delinq', 'tot_coll_amt', 'tot_cur_bal', 'total_rev_hi_lim'],\n",
              "      dtype='object')"
            ]
          },
          "metadata": {
            "tags": []
          },
          "execution_count": 21
        }
      ]
    },
    {
      "cell_type": "markdown",
      "metadata": {
        "id": "jt-dktjZeFZ-"
      },
      "source": [
        "\n",
        "Removing columns that have :\n",
        "\n",
        "1. 19 features with more than 75% of missing values.Any technique to impute them will result in inaccurate results\n",
        "\n",
        "2. Certain static features not related to credit risk, e.g., id, member_id, url, title\n",
        "3. Other forward-looking features that are expected to be populated only once the borrower has defaulted, e.g., recoveries, collection_recovery_fee"
      ]
    },
    {
      "cell_type": "code",
      "metadata": {
        "id": "kQUUnyxuiqMQ"
      },
      "source": [
        "new_data.drop(columns = ['id', 'member_id', 'sub_grade', 'emp_title', 'url', 'desc', 'title', 'zip_code', 'next_pymnt_d','recoveries', 'collection_recovery_fee', 'total_rec_prncp', 'total_rec_late_fee'  , 'application_type'] , inplace=True)"
      ],
      "execution_count": 22,
      "outputs": []
    },
    {
      "cell_type": "code",
      "metadata": {
        "colab": {
          "base_uri": "https://localhost:8080/"
        },
        "id": "pvRP2rV9mHjz",
        "outputId": "7eff0950-72e2-4f75-9503-5039fe336131"
      },
      "source": [
        "print(\"The shape of data after dropping unnecessary columns : \" , new_data.shape)"
      ],
      "execution_count": 23,
      "outputs": [
        {
          "output_type": "stream",
          "text": [
            "The shape of data after dropping unnecessary columns :  (466285, 41)\n"
          ],
          "name": "stdout"
        }
      ]
    },
    {
      "cell_type": "code",
      "metadata": {
        "id": "k4-zs5ZAma4u",
        "colab": {
          "base_uri": "https://localhost:8080/"
        },
        "outputId": "0489960b-3fd1-4a4d-9e3a-3550db106b8a"
      },
      "source": [
        "new_data.info()"
      ],
      "execution_count": 24,
      "outputs": [
        {
          "output_type": "stream",
          "text": [
            "<class 'pandas.core.frame.DataFrame'>\n",
            "RangeIndex: 466285 entries, 0 to 466284\n",
            "Data columns (total 41 columns):\n",
            " #   Column                      Non-Null Count   Dtype  \n",
            "---  ------                      --------------   -----  \n",
            " 0   loan_amnt                   466285 non-null  int64  \n",
            " 1   funded_amnt                 466285 non-null  int64  \n",
            " 2   funded_amnt_inv             466285 non-null  float64\n",
            " 3   term                        466285 non-null  object \n",
            " 4   int_rate                    466285 non-null  float64\n",
            " 5   installment                 466285 non-null  float64\n",
            " 6   grade                       466285 non-null  object \n",
            " 7   emp_length                  445277 non-null  object \n",
            " 8   home_ownership              466285 non-null  object \n",
            " 9   annual_inc                  466281 non-null  float64\n",
            " 10  verification_status         466285 non-null  object \n",
            " 11  issue_d                     466285 non-null  object \n",
            " 12  loan_status                 466285 non-null  object \n",
            " 13  pymnt_plan                  466285 non-null  object \n",
            " 14  purpose                     466285 non-null  object \n",
            " 15  addr_state                  466285 non-null  object \n",
            " 16  dti                         466285 non-null  float64\n",
            " 17  delinq_2yrs                 466256 non-null  float64\n",
            " 18  earliest_cr_line            466256 non-null  object \n",
            " 19  inq_last_6mths              466256 non-null  float64\n",
            " 20  mths_since_last_delinq      215934 non-null  float64\n",
            " 21  open_acc                    466256 non-null  float64\n",
            " 22  pub_rec                     466256 non-null  float64\n",
            " 23  revol_bal                   466285 non-null  int64  \n",
            " 24  revol_util                  465945 non-null  float64\n",
            " 25  total_acc                   466256 non-null  float64\n",
            " 26  initial_list_status         466285 non-null  object \n",
            " 27  out_prncp                   466285 non-null  float64\n",
            " 28  out_prncp_inv               466285 non-null  float64\n",
            " 29  total_pymnt                 466285 non-null  float64\n",
            " 30  total_pymnt_inv             466285 non-null  float64\n",
            " 31  total_rec_int               466285 non-null  float64\n",
            " 32  last_pymnt_d                465909 non-null  object \n",
            " 33  last_pymnt_amnt             466285 non-null  float64\n",
            " 34  last_credit_pull_d          466243 non-null  object \n",
            " 35  collections_12_mths_ex_med  466140 non-null  float64\n",
            " 36  policy_code                 466285 non-null  int64  \n",
            " 37  acc_now_delinq              466256 non-null  float64\n",
            " 38  tot_coll_amt                396009 non-null  float64\n",
            " 39  tot_cur_bal                 396009 non-null  float64\n",
            " 40  total_rev_hi_lim            396009 non-null  float64\n",
            "dtypes: float64(23), int64(4), object(14)\n",
            "memory usage: 145.9+ MB\n"
          ],
          "name": "stdout"
        }
      ]
    },
    {
      "cell_type": "code",
      "metadata": {
        "id": "0HoofKyTq8z9",
        "colab": {
          "base_uri": "https://localhost:8080/"
        },
        "outputId": "48fc2092-5402-4d6f-c0d6-93a9c2942cd2"
      },
      "source": [
        "for col in new_data.columns :\n",
        "  if new_data[col].dtype == \"object\" :\n",
        "    unique = pd.unique(new_data[col])\n",
        "    if len(unique) < 15 :\n",
        "      print(\"column \" + col + \" has \" +str(len(unique)) + \" unique values and they are :\\n \" + str(unique))\n",
        "    else :\n",
        "      print(col + str(len(unique)) + \" values\")\n"
      ],
      "execution_count": 25,
      "outputs": [
        {
          "output_type": "stream",
          "text": [
            "column term has 2 unique values and they are :\n",
            " [' 36 months' ' 60 months']\n",
            "column grade has 7 unique values and they are :\n",
            " ['B' 'C' 'A' 'E' 'F' 'D' 'G']\n",
            "column emp_length has 12 unique values and they are :\n",
            " ['10+ years' '< 1 year' '1 year' '3 years' '8 years' '9 years' '4 years'\n",
            " '5 years' '6 years' '2 years' '7 years' nan]\n",
            "column home_ownership has 6 unique values and they are :\n",
            " ['RENT' 'OWN' 'MORTGAGE' 'OTHER' 'NONE' 'ANY']\n",
            "column verification_status has 3 unique values and they are :\n",
            " ['Verified' 'Source Verified' 'Not Verified']\n",
            "issue_d91 values\n",
            "column loan_status has 9 unique values and they are :\n",
            " ['Fully Paid' 'Charged Off' 'Current' 'Default' 'Late (31-120 days)'\n",
            " 'In Grace Period' 'Late (16-30 days)'\n",
            " 'Does not meet the credit policy. Status:Fully Paid'\n",
            " 'Does not meet the credit policy. Status:Charged Off']\n",
            "column pymnt_plan has 2 unique values and they are :\n",
            " ['n' 'y']\n",
            "column purpose has 14 unique values and they are :\n",
            " ['credit_card' 'car' 'small_business' 'other' 'wedding'\n",
            " 'debt_consolidation' 'home_improvement' 'major_purchase' 'medical'\n",
            " 'moving' 'vacation' 'house' 'renewable_energy' 'educational']\n",
            "addr_state50 values\n",
            "earliest_cr_line665 values\n",
            "column initial_list_status has 2 unique values and they are :\n",
            " ['f' 'w']\n",
            "last_pymnt_d99 values\n",
            "last_credit_pull_d104 values\n"
          ],
          "name": "stdout"
        }
      ]
    },
    {
      "cell_type": "markdown",
      "metadata": {
        "id": "4hL1ujxLnhQo"
      },
      "source": [
        "#Creating target variable"
      ]
    },
    {
      "cell_type": "code",
      "metadata": {
        "id": "1T8cxnUM3aP2",
        "colab": {
          "base_uri": "https://localhost:8080/"
        },
        "outputId": "e6191568-96b6-4476-862a-35d53046d4a5"
      },
      "source": [
        "new_data['loan_status'].value_counts(normalize = True)"
      ],
      "execution_count": 26,
      "outputs": [
        {
          "output_type": "execute_result",
          "data": {
            "text/plain": [
              "Current                                                0.480878\n",
              "Fully Paid                                             0.396193\n",
              "Charged Off                                            0.091092\n",
              "Late (31-120 days)                                     0.014798\n",
              "In Grace Period                                        0.006747\n",
              "Does not meet the credit policy. Status:Fully Paid     0.004263\n",
              "Late (16-30 days)                                      0.002612\n",
              "Default                                                0.001784\n",
              "Does not meet the credit policy. Status:Charged Off    0.001632\n",
              "Name: loan_status, dtype: float64"
            ]
          },
          "metadata": {
            "tags": []
          },
          "execution_count": 26
        }
      ]
    },
    {
      "cell_type": "markdown",
      "metadata": {
        "id": "kCF5L8Ryn3Rm"
      },
      "source": [
        "$\\text{Customers are not considered good for business if they have status as either: Late (31-120 days), Default , Does not meet the credit policy, Status:Charged Off ,Charged Off}$\n",
        "$\\text{We encode such customers with 0 and others as 1 and make a new column of targets as good or bad customer.}$\n",
        "\n"
      ]
    },
    {
      "cell_type": "code",
      "metadata": {
        "id": "tRf2I6HKuzdk"
      },
      "source": [
        "new_data[\"good_bad\"] = np.where(new_data.loc[:,'loan_status'].isin(['Charged Off' ,'Late (31-120 days)' ,'Default' , 'Does not meet the credit policy. Status:Charged Off']) , 0 , 1)"
      ],
      "execution_count": 27,
      "outputs": []
    },
    {
      "cell_type": "code",
      "metadata": {
        "colab": {
          "base_uri": "https://localhost:8080/",
          "height": 164
        },
        "id": "5orGJHgR-xAW",
        "outputId": "d255f205-76a0-4f83-919b-0f6300ec3d97"
      },
      "source": [
        "new_data.head(2)"
      ],
      "execution_count": 28,
      "outputs": [
        {
          "output_type": "execute_result",
          "data": {
            "text/html": [
              "<div>\n",
              "<style scoped>\n",
              "    .dataframe tbody tr th:only-of-type {\n",
              "        vertical-align: middle;\n",
              "    }\n",
              "\n",
              "    .dataframe tbody tr th {\n",
              "        vertical-align: top;\n",
              "    }\n",
              "\n",
              "    .dataframe thead th {\n",
              "        text-align: right;\n",
              "    }\n",
              "</style>\n",
              "<table border=\"1\" class=\"dataframe\">\n",
              "  <thead>\n",
              "    <tr style=\"text-align: right;\">\n",
              "      <th></th>\n",
              "      <th>loan_amnt</th>\n",
              "      <th>funded_amnt</th>\n",
              "      <th>funded_amnt_inv</th>\n",
              "      <th>term</th>\n",
              "      <th>int_rate</th>\n",
              "      <th>installment</th>\n",
              "      <th>grade</th>\n",
              "      <th>emp_length</th>\n",
              "      <th>home_ownership</th>\n",
              "      <th>annual_inc</th>\n",
              "      <th>verification_status</th>\n",
              "      <th>issue_d</th>\n",
              "      <th>loan_status</th>\n",
              "      <th>pymnt_plan</th>\n",
              "      <th>purpose</th>\n",
              "      <th>addr_state</th>\n",
              "      <th>dti</th>\n",
              "      <th>delinq_2yrs</th>\n",
              "      <th>earliest_cr_line</th>\n",
              "      <th>inq_last_6mths</th>\n",
              "      <th>mths_since_last_delinq</th>\n",
              "      <th>open_acc</th>\n",
              "      <th>pub_rec</th>\n",
              "      <th>revol_bal</th>\n",
              "      <th>revol_util</th>\n",
              "      <th>total_acc</th>\n",
              "      <th>initial_list_status</th>\n",
              "      <th>out_prncp</th>\n",
              "      <th>out_prncp_inv</th>\n",
              "      <th>total_pymnt</th>\n",
              "      <th>total_pymnt_inv</th>\n",
              "      <th>total_rec_int</th>\n",
              "      <th>last_pymnt_d</th>\n",
              "      <th>last_pymnt_amnt</th>\n",
              "      <th>last_credit_pull_d</th>\n",
              "      <th>collections_12_mths_ex_med</th>\n",
              "      <th>policy_code</th>\n",
              "      <th>acc_now_delinq</th>\n",
              "      <th>tot_coll_amt</th>\n",
              "      <th>tot_cur_bal</th>\n",
              "      <th>total_rev_hi_lim</th>\n",
              "      <th>good_bad</th>\n",
              "    </tr>\n",
              "  </thead>\n",
              "  <tbody>\n",
              "    <tr>\n",
              "      <th>0</th>\n",
              "      <td>5000</td>\n",
              "      <td>5000</td>\n",
              "      <td>4975.0</td>\n",
              "      <td>36 months</td>\n",
              "      <td>10.65</td>\n",
              "      <td>162.87</td>\n",
              "      <td>B</td>\n",
              "      <td>10+ years</td>\n",
              "      <td>RENT</td>\n",
              "      <td>24000.0</td>\n",
              "      <td>Verified</td>\n",
              "      <td>Dec-11</td>\n",
              "      <td>Fully Paid</td>\n",
              "      <td>n</td>\n",
              "      <td>credit_card</td>\n",
              "      <td>AZ</td>\n",
              "      <td>27.65</td>\n",
              "      <td>0.0</td>\n",
              "      <td>Jan-85</td>\n",
              "      <td>1.0</td>\n",
              "      <td>NaN</td>\n",
              "      <td>3.0</td>\n",
              "      <td>0.0</td>\n",
              "      <td>13648</td>\n",
              "      <td>83.7</td>\n",
              "      <td>9.0</td>\n",
              "      <td>f</td>\n",
              "      <td>0.0</td>\n",
              "      <td>0.0</td>\n",
              "      <td>5861.071414</td>\n",
              "      <td>5831.78</td>\n",
              "      <td>861.07</td>\n",
              "      <td>Jan-15</td>\n",
              "      <td>171.62</td>\n",
              "      <td>Jan-16</td>\n",
              "      <td>0.0</td>\n",
              "      <td>1</td>\n",
              "      <td>0.0</td>\n",
              "      <td>NaN</td>\n",
              "      <td>NaN</td>\n",
              "      <td>NaN</td>\n",
              "      <td>1</td>\n",
              "    </tr>\n",
              "    <tr>\n",
              "      <th>1</th>\n",
              "      <td>2500</td>\n",
              "      <td>2500</td>\n",
              "      <td>2500.0</td>\n",
              "      <td>60 months</td>\n",
              "      <td>15.27</td>\n",
              "      <td>59.83</td>\n",
              "      <td>C</td>\n",
              "      <td>&lt; 1 year</td>\n",
              "      <td>RENT</td>\n",
              "      <td>30000.0</td>\n",
              "      <td>Source Verified</td>\n",
              "      <td>Dec-11</td>\n",
              "      <td>Charged Off</td>\n",
              "      <td>n</td>\n",
              "      <td>car</td>\n",
              "      <td>GA</td>\n",
              "      <td>1.00</td>\n",
              "      <td>0.0</td>\n",
              "      <td>Apr-99</td>\n",
              "      <td>5.0</td>\n",
              "      <td>NaN</td>\n",
              "      <td>3.0</td>\n",
              "      <td>0.0</td>\n",
              "      <td>1687</td>\n",
              "      <td>9.4</td>\n",
              "      <td>4.0</td>\n",
              "      <td>f</td>\n",
              "      <td>0.0</td>\n",
              "      <td>0.0</td>\n",
              "      <td>1008.710000</td>\n",
              "      <td>1008.71</td>\n",
              "      <td>435.17</td>\n",
              "      <td>Apr-13</td>\n",
              "      <td>119.66</td>\n",
              "      <td>Sep-13</td>\n",
              "      <td>0.0</td>\n",
              "      <td>1</td>\n",
              "      <td>0.0</td>\n",
              "      <td>NaN</td>\n",
              "      <td>NaN</td>\n",
              "      <td>NaN</td>\n",
              "      <td>0</td>\n",
              "    </tr>\n",
              "  </tbody>\n",
              "</table>\n",
              "</div>"
            ],
            "text/plain": [
              "   loan_amnt  funded_amnt  ...  total_rev_hi_lim good_bad\n",
              "0       5000         5000  ...               NaN        1\n",
              "1       2500         2500  ...               NaN        0\n",
              "\n",
              "[2 rows x 42 columns]"
            ]
          },
          "metadata": {
            "tags": []
          },
          "execution_count": 28
        }
      ]
    },
    {
      "cell_type": "code",
      "metadata": {
        "id": "lllcBROI-yfg"
      },
      "source": [
        "new_data.drop(columns = 'loan_status' , inplace =True , axis = 1)"
      ],
      "execution_count": 29,
      "outputs": []
    },
    {
      "cell_type": "code",
      "metadata": {
        "colab": {
          "base_uri": "https://localhost:8080/",
          "height": 164
        },
        "id": "2buomKa9_x--",
        "outputId": "924a19d6-73a2-48b9-f6cc-597119c27697"
      },
      "source": [
        "new_data.head(2)"
      ],
      "execution_count": 30,
      "outputs": [
        {
          "output_type": "execute_result",
          "data": {
            "text/html": [
              "<div>\n",
              "<style scoped>\n",
              "    .dataframe tbody tr th:only-of-type {\n",
              "        vertical-align: middle;\n",
              "    }\n",
              "\n",
              "    .dataframe tbody tr th {\n",
              "        vertical-align: top;\n",
              "    }\n",
              "\n",
              "    .dataframe thead th {\n",
              "        text-align: right;\n",
              "    }\n",
              "</style>\n",
              "<table border=\"1\" class=\"dataframe\">\n",
              "  <thead>\n",
              "    <tr style=\"text-align: right;\">\n",
              "      <th></th>\n",
              "      <th>loan_amnt</th>\n",
              "      <th>funded_amnt</th>\n",
              "      <th>funded_amnt_inv</th>\n",
              "      <th>term</th>\n",
              "      <th>int_rate</th>\n",
              "      <th>installment</th>\n",
              "      <th>grade</th>\n",
              "      <th>emp_length</th>\n",
              "      <th>home_ownership</th>\n",
              "      <th>annual_inc</th>\n",
              "      <th>verification_status</th>\n",
              "      <th>issue_d</th>\n",
              "      <th>pymnt_plan</th>\n",
              "      <th>purpose</th>\n",
              "      <th>addr_state</th>\n",
              "      <th>dti</th>\n",
              "      <th>delinq_2yrs</th>\n",
              "      <th>earliest_cr_line</th>\n",
              "      <th>inq_last_6mths</th>\n",
              "      <th>mths_since_last_delinq</th>\n",
              "      <th>open_acc</th>\n",
              "      <th>pub_rec</th>\n",
              "      <th>revol_bal</th>\n",
              "      <th>revol_util</th>\n",
              "      <th>total_acc</th>\n",
              "      <th>initial_list_status</th>\n",
              "      <th>out_prncp</th>\n",
              "      <th>out_prncp_inv</th>\n",
              "      <th>total_pymnt</th>\n",
              "      <th>total_pymnt_inv</th>\n",
              "      <th>total_rec_int</th>\n",
              "      <th>last_pymnt_d</th>\n",
              "      <th>last_pymnt_amnt</th>\n",
              "      <th>last_credit_pull_d</th>\n",
              "      <th>collections_12_mths_ex_med</th>\n",
              "      <th>policy_code</th>\n",
              "      <th>acc_now_delinq</th>\n",
              "      <th>tot_coll_amt</th>\n",
              "      <th>tot_cur_bal</th>\n",
              "      <th>total_rev_hi_lim</th>\n",
              "      <th>good_bad</th>\n",
              "    </tr>\n",
              "  </thead>\n",
              "  <tbody>\n",
              "    <tr>\n",
              "      <th>0</th>\n",
              "      <td>5000</td>\n",
              "      <td>5000</td>\n",
              "      <td>4975.0</td>\n",
              "      <td>36 months</td>\n",
              "      <td>10.65</td>\n",
              "      <td>162.87</td>\n",
              "      <td>B</td>\n",
              "      <td>10+ years</td>\n",
              "      <td>RENT</td>\n",
              "      <td>24000.0</td>\n",
              "      <td>Verified</td>\n",
              "      <td>Dec-11</td>\n",
              "      <td>n</td>\n",
              "      <td>credit_card</td>\n",
              "      <td>AZ</td>\n",
              "      <td>27.65</td>\n",
              "      <td>0.0</td>\n",
              "      <td>Jan-85</td>\n",
              "      <td>1.0</td>\n",
              "      <td>NaN</td>\n",
              "      <td>3.0</td>\n",
              "      <td>0.0</td>\n",
              "      <td>13648</td>\n",
              "      <td>83.7</td>\n",
              "      <td>9.0</td>\n",
              "      <td>f</td>\n",
              "      <td>0.0</td>\n",
              "      <td>0.0</td>\n",
              "      <td>5861.071414</td>\n",
              "      <td>5831.78</td>\n",
              "      <td>861.07</td>\n",
              "      <td>Jan-15</td>\n",
              "      <td>171.62</td>\n",
              "      <td>Jan-16</td>\n",
              "      <td>0.0</td>\n",
              "      <td>1</td>\n",
              "      <td>0.0</td>\n",
              "      <td>NaN</td>\n",
              "      <td>NaN</td>\n",
              "      <td>NaN</td>\n",
              "      <td>1</td>\n",
              "    </tr>\n",
              "    <tr>\n",
              "      <th>1</th>\n",
              "      <td>2500</td>\n",
              "      <td>2500</td>\n",
              "      <td>2500.0</td>\n",
              "      <td>60 months</td>\n",
              "      <td>15.27</td>\n",
              "      <td>59.83</td>\n",
              "      <td>C</td>\n",
              "      <td>&lt; 1 year</td>\n",
              "      <td>RENT</td>\n",
              "      <td>30000.0</td>\n",
              "      <td>Source Verified</td>\n",
              "      <td>Dec-11</td>\n",
              "      <td>n</td>\n",
              "      <td>car</td>\n",
              "      <td>GA</td>\n",
              "      <td>1.00</td>\n",
              "      <td>0.0</td>\n",
              "      <td>Apr-99</td>\n",
              "      <td>5.0</td>\n",
              "      <td>NaN</td>\n",
              "      <td>3.0</td>\n",
              "      <td>0.0</td>\n",
              "      <td>1687</td>\n",
              "      <td>9.4</td>\n",
              "      <td>4.0</td>\n",
              "      <td>f</td>\n",
              "      <td>0.0</td>\n",
              "      <td>0.0</td>\n",
              "      <td>1008.710000</td>\n",
              "      <td>1008.71</td>\n",
              "      <td>435.17</td>\n",
              "      <td>Apr-13</td>\n",
              "      <td>119.66</td>\n",
              "      <td>Sep-13</td>\n",
              "      <td>0.0</td>\n",
              "      <td>1</td>\n",
              "      <td>0.0</td>\n",
              "      <td>NaN</td>\n",
              "      <td>NaN</td>\n",
              "      <td>NaN</td>\n",
              "      <td>0</td>\n",
              "    </tr>\n",
              "  </tbody>\n",
              "</table>\n",
              "</div>"
            ],
            "text/plain": [
              "   loan_amnt  funded_amnt  ...  total_rev_hi_lim good_bad\n",
              "0       5000         5000  ...               NaN        1\n",
              "1       2500         2500  ...               NaN        0\n",
              "\n",
              "[2 rows x 41 columns]"
            ]
          },
          "metadata": {
            "tags": []
          },
          "execution_count": 30
        }
      ]
    },
    {
      "cell_type": "markdown",
      "metadata": {
        "id": "_hmlYqj0ACea"
      },
      "source": [
        "#Test-Train Split"
      ]
    },
    {
      "cell_type": "code",
      "metadata": {
        "id": "t5IBURti_0TF"
      },
      "source": [
        "from sklearn.model_selection import train_test_split"
      ],
      "execution_count": 31,
      "outputs": []
    },
    {
      "cell_type": "code",
      "metadata": {
        "colab": {
          "base_uri": "https://localhost:8080/"
        },
        "id": "i6p-9CNYAMpC",
        "outputId": "b5929ad5-44fb-4d52-fb05-aeb5933b1ea8"
      },
      "source": [
        "labels = new_data[\"good_bad\"]\n",
        "train_data = new_data.drop(columns = 'good_bad' , axis = 1)\n",
        "labels"
      ],
      "execution_count": 32,
      "outputs": [
        {
          "output_type": "execute_result",
          "data": {
            "text/plain": [
              "0         1\n",
              "1         0\n",
              "2         1\n",
              "3         1\n",
              "4         1\n",
              "         ..\n",
              "466280    1\n",
              "466281    0\n",
              "466282    1\n",
              "466283    1\n",
              "466284    1\n",
              "Name: good_bad, Length: 466285, dtype: int64"
            ]
          },
          "metadata": {
            "tags": []
          },
          "execution_count": 32
        }
      ]
    },
    {
      "cell_type": "code",
      "metadata": {
        "id": "zxKczY6pAuFm"
      },
      "source": [
        "X_train , X_test , Y_train , Y_test = train_test_split(train_data , labels , test_size = 0.33 , random_state = 42 ,stratify= labels)"
      ],
      "execution_count": 33,
      "outputs": []
    },
    {
      "cell_type": "code",
      "metadata": {
        "colab": {
          "base_uri": "https://localhost:8080/"
        },
        "id": "KnGTYurCCz0e",
        "outputId": "a8af954f-09c9-4f4c-b19f-ffe9b2247e75"
      },
      "source": [
        "X_train,X_test = X_train.copy() , X_test.copy()\n",
        "print(\"shape of X_train : \" , X_train.shape)\n",
        "print(\"shape of X_test : \" , X_test.shape)\n",
        "print(\"shape of Y_train : \" , Y_train.shape)\n",
        "print(\"shape of Y_test : \" , Y_test.shape)"
      ],
      "execution_count": 34,
      "outputs": [
        {
          "output_type": "stream",
          "text": [
            "shape of X_train :  (312410, 40)\n",
            "shape of X_test :  (153875, 40)\n",
            "shape of Y_train :  (312410,)\n",
            "shape of Y_test :  (153875,)\n"
          ],
          "name": "stdout"
        }
      ]
    },
    {
      "cell_type": "markdown",
      "metadata": {
        "id": "7TKKQp8PGK7S"
      },
      "source": [
        "#Encoding Categorical variables"
      ]
    },
    {
      "cell_type": "code",
      "metadata": {
        "colab": {
          "base_uri": "https://localhost:8080/",
          "height": 212
        },
        "id": "QcD6F0lfE_AW",
        "outputId": "8c95892b-e54a-4035-ff5e-f40c275cf7fb"
      },
      "source": [
        "dummy = pd.DataFrame()\n",
        "for col in X_train.columns :\n",
        "  if X_train[col].dtype == \"object\" :\n",
        "    #print(col)\n",
        "    dummy[col] = X_train[col]\n",
        "dummy.head(3)"
      ],
      "execution_count": 35,
      "outputs": [
        {
          "output_type": "execute_result",
          "data": {
            "text/html": [
              "<div>\n",
              "<style scoped>\n",
              "    .dataframe tbody tr th:only-of-type {\n",
              "        vertical-align: middle;\n",
              "    }\n",
              "\n",
              "    .dataframe tbody tr th {\n",
              "        vertical-align: top;\n",
              "    }\n",
              "\n",
              "    .dataframe thead th {\n",
              "        text-align: right;\n",
              "    }\n",
              "</style>\n",
              "<table border=\"1\" class=\"dataframe\">\n",
              "  <thead>\n",
              "    <tr style=\"text-align: right;\">\n",
              "      <th></th>\n",
              "      <th>term</th>\n",
              "      <th>grade</th>\n",
              "      <th>emp_length</th>\n",
              "      <th>home_ownership</th>\n",
              "      <th>verification_status</th>\n",
              "      <th>issue_d</th>\n",
              "      <th>pymnt_plan</th>\n",
              "      <th>purpose</th>\n",
              "      <th>addr_state</th>\n",
              "      <th>earliest_cr_line</th>\n",
              "      <th>initial_list_status</th>\n",
              "      <th>last_pymnt_d</th>\n",
              "      <th>last_credit_pull_d</th>\n",
              "    </tr>\n",
              "  </thead>\n",
              "  <tbody>\n",
              "    <tr>\n",
              "      <th>185186</th>\n",
              "      <td>36 months</td>\n",
              "      <td>B</td>\n",
              "      <td>10+ years</td>\n",
              "      <td>MORTGAGE</td>\n",
              "      <td>Verified</td>\n",
              "      <td>Nov-12</td>\n",
              "      <td>n</td>\n",
              "      <td>debt_consolidation</td>\n",
              "      <td>IL</td>\n",
              "      <td>May-00</td>\n",
              "      <td>f</td>\n",
              "      <td>Oct-14</td>\n",
              "      <td>Jan-16</td>\n",
              "    </tr>\n",
              "    <tr>\n",
              "      <th>156543</th>\n",
              "      <td>36 months</td>\n",
              "      <td>A</td>\n",
              "      <td>3 years</td>\n",
              "      <td>MORTGAGE</td>\n",
              "      <td>Not Verified</td>\n",
              "      <td>Mar-13</td>\n",
              "      <td>n</td>\n",
              "      <td>credit_card</td>\n",
              "      <td>VA</td>\n",
              "      <td>Feb-94</td>\n",
              "      <td>f</td>\n",
              "      <td>Jun-14</td>\n",
              "      <td>Jan-16</td>\n",
              "    </tr>\n",
              "    <tr>\n",
              "      <th>8458</th>\n",
              "      <td>36 months</td>\n",
              "      <td>A</td>\n",
              "      <td>10+ years</td>\n",
              "      <td>OWN</td>\n",
              "      <td>Not Verified</td>\n",
              "      <td>Sep-11</td>\n",
              "      <td>n</td>\n",
              "      <td>debt_consolidation</td>\n",
              "      <td>FL</td>\n",
              "      <td>Jan-93</td>\n",
              "      <td>f</td>\n",
              "      <td>Sep-14</td>\n",
              "      <td>Jan-16</td>\n",
              "    </tr>\n",
              "  </tbody>\n",
              "</table>\n",
              "</div>"
            ],
            "text/plain": [
              "              term grade  ... last_pymnt_d last_credit_pull_d\n",
              "185186   36 months     B  ...       Oct-14             Jan-16\n",
              "156543   36 months     A  ...       Jun-14             Jan-16\n",
              "8458     36 months     A  ...       Sep-14             Jan-16\n",
              "\n",
              "[3 rows x 13 columns]"
            ]
          },
          "metadata": {
            "tags": []
          },
          "execution_count": 35
        }
      ]
    },
    {
      "cell_type": "markdown",
      "metadata": {
        "id": "we3x6hfGHxlt"
      },
      "source": [
        "We have four columns containing date that can be encoded using number of days since today.term column has only 2 values and can be encoded as 0,1 or left as it is.The emp_length column has 12 unique categorical values and can be encoded as below."
      ]
    },
    {
      "cell_type": "code",
      "metadata": {
        "colab": {
          "base_uri": "https://localhost:8080/"
        },
        "id": "ppRo5fhTfbsF",
        "outputId": "a0500ce4-06c8-486d-ed8d-a4d9ce00e2b5"
      },
      "source": [
        "print(pd.unique(dummy.emp_length))"
      ],
      "execution_count": 36,
      "outputs": [
        {
          "output_type": "stream",
          "text": [
            "['10+ years' '3 years' nan '< 1 year' '6 years' '4 years' '8 years'\n",
            " '7 years' '9 years' '2 years' '1 year' '5 years']\n"
          ],
          "name": "stdout"
        }
      ]
    },
    {
      "cell_type": "markdown",
      "metadata": {
        "id": "V3RQAiUefl3i"
      },
      "source": [
        "So emp_length have 12 unique values of years.We can convert these values into numeric values indicating years instead of strings. We will use pandas str.replace for converting these string to numeric."
      ]
    },
    {
      "cell_type": "code",
      "metadata": {
        "id": "6txJwUKShKNF"
      },
      "source": [
        "#Handling string data\n",
        "def emp_length2num(data , col) :\n",
        "  \"\"\"\n",
        "  This function converts the string data into numerical data for columns ( here emp_length column) in dataframe\n",
        "\n",
        "  \"\"\"\n",
        "  data[col] = data[col].str.replace('\\+ years', '') #converting value 10+ years to 10\n",
        "  data[col] = data[col].str.replace('< 1 year', str(0))\n",
        "  data[col] = data[col].str.replace(' years', '') #converting values like 3 years/6 years/4 years/8 years ... etc to 3/6/4/8 respectively\n",
        "  data[col] = data[col].str.replace(' year', '')\n",
        "  data[col] = pd.to_numeric(data[col])\n",
        "  data[col].fillna(value = 0 , inplace = True) #filling nan values with 0\n",
        "  return data\n",
        "#dqf = emp_length2num(dummy , 'emp_length')\n",
        "#print(pd.unique(dqf.emp_length))"
      ],
      "execution_count": 37,
      "outputs": []
    },
    {
      "cell_type": "code",
      "metadata": {
        "id": "x_JysD_7pYWU"
      },
      "source": [
        "def convert_date2months(data , col) :\n",
        "  \"\"\"\n",
        "  This function will convert the dates in column to number of months since day of running this code\n",
        "  \"\"\"\n",
        "  from datetime import date\n",
        "  today = pd.to_datetime(date.today()) #to get counts till date of today\n",
        "  data[col] = pd.to_datetime(data[col] , format = '%b-%y') #convert date in columns to datetime\n",
        "  data['months_since_' + col] = round(pd.to_numeric((today - data[col])/ np.timedelta64(1 , 'M'))) #Get months since todays date\n",
        "  data['months_since_' + col] = data['months_since_' + col].apply(lambda x: data['months_since_' + col].max() if x < 0 else x) #removing any date that may have negative values due to misiing values\n",
        "  data.drop(columns = [col] , inplace = True) #removing the column after getting the number of months since todays date\n",
        "  return data\n"
      ],
      "execution_count": 38,
      "outputs": []
    },
    {
      "cell_type": "code",
      "metadata": {
        "id": "rQlClOF44tuM"
      },
      "source": [
        "#The column term have only 2 unique values and they are in form of month in type string\n",
        "#converting them to numeric \n",
        "def convert_term(data , col) :\n",
        "  \"\"\"\n",
        "  The column term have only 2 unique values and they are in form of month in type string , converting them to numeric \n",
        "  \"\"\"\n",
        "  data[col] = data[col].str.replace(' months','')\n",
        "  return data"
      ],
      "execution_count": 39,
      "outputs": []
    },
    {
      "cell_type": "code",
      "metadata": {
        "colab": {
          "base_uri": "https://localhost:8080/",
          "height": 164
        },
        "id": "zXGQPIp8ArHA",
        "outputId": "5bd361b0-1882-4c43-bb13-0cf889b4728e"
      },
      "source": [
        "dummy.head(2)"
      ],
      "execution_count": 40,
      "outputs": [
        {
          "output_type": "execute_result",
          "data": {
            "text/html": [
              "<div>\n",
              "<style scoped>\n",
              "    .dataframe tbody tr th:only-of-type {\n",
              "        vertical-align: middle;\n",
              "    }\n",
              "\n",
              "    .dataframe tbody tr th {\n",
              "        vertical-align: top;\n",
              "    }\n",
              "\n",
              "    .dataframe thead th {\n",
              "        text-align: right;\n",
              "    }\n",
              "</style>\n",
              "<table border=\"1\" class=\"dataframe\">\n",
              "  <thead>\n",
              "    <tr style=\"text-align: right;\">\n",
              "      <th></th>\n",
              "      <th>term</th>\n",
              "      <th>grade</th>\n",
              "      <th>emp_length</th>\n",
              "      <th>home_ownership</th>\n",
              "      <th>verification_status</th>\n",
              "      <th>issue_d</th>\n",
              "      <th>pymnt_plan</th>\n",
              "      <th>purpose</th>\n",
              "      <th>addr_state</th>\n",
              "      <th>earliest_cr_line</th>\n",
              "      <th>initial_list_status</th>\n",
              "      <th>last_pymnt_d</th>\n",
              "      <th>last_credit_pull_d</th>\n",
              "    </tr>\n",
              "  </thead>\n",
              "  <tbody>\n",
              "    <tr>\n",
              "      <th>185186</th>\n",
              "      <td>36 months</td>\n",
              "      <td>B</td>\n",
              "      <td>10+ years</td>\n",
              "      <td>MORTGAGE</td>\n",
              "      <td>Verified</td>\n",
              "      <td>Nov-12</td>\n",
              "      <td>n</td>\n",
              "      <td>debt_consolidation</td>\n",
              "      <td>IL</td>\n",
              "      <td>May-00</td>\n",
              "      <td>f</td>\n",
              "      <td>Oct-14</td>\n",
              "      <td>Jan-16</td>\n",
              "    </tr>\n",
              "    <tr>\n",
              "      <th>156543</th>\n",
              "      <td>36 months</td>\n",
              "      <td>A</td>\n",
              "      <td>3 years</td>\n",
              "      <td>MORTGAGE</td>\n",
              "      <td>Not Verified</td>\n",
              "      <td>Mar-13</td>\n",
              "      <td>n</td>\n",
              "      <td>credit_card</td>\n",
              "      <td>VA</td>\n",
              "      <td>Feb-94</td>\n",
              "      <td>f</td>\n",
              "      <td>Jun-14</td>\n",
              "      <td>Jan-16</td>\n",
              "    </tr>\n",
              "  </tbody>\n",
              "</table>\n",
              "</div>"
            ],
            "text/plain": [
              "              term grade  ... last_pymnt_d last_credit_pull_d\n",
              "185186   36 months     B  ...       Oct-14             Jan-16\n",
              "156543   36 months     A  ...       Jun-14             Jan-16\n",
              "\n",
              "[2 rows x 13 columns]"
            ]
          },
          "metadata": {
            "tags": []
          },
          "execution_count": 40
        }
      ]
    },
    {
      "cell_type": "code",
      "metadata": {
        "id": "MXp3wRgE_77G"
      },
      "source": [
        "X_train = convert_term(X_train , 'term')\n",
        "X_train = convert_date2months(X_train , 'issue_d')\n",
        "X_train = convert_date2months(X_train , 'earliest_cr_line' )\n",
        "X_train = convert_date2months(X_train , 'last_pymnt_d' )\n",
        "X_train = convert_date2months(X_train , 'last_credit_pull_d')\n",
        "X_train = emp_length2num(X_train , 'emp_length')"
      ],
      "execution_count": 41,
      "outputs": []
    },
    {
      "cell_type": "code",
      "metadata": {
        "id": "3A-LC_Ne5rDp",
        "colab": {
          "base_uri": "https://localhost:8080/",
          "height": 223
        },
        "outputId": "a751c2a7-503c-49bf-a974-89087aff31b7"
      },
      "source": [
        "X_train.head()"
      ],
      "execution_count": 42,
      "outputs": [
        {
          "output_type": "execute_result",
          "data": {
            "text/html": [
              "<div>\n",
              "<style scoped>\n",
              "    .dataframe tbody tr th:only-of-type {\n",
              "        vertical-align: middle;\n",
              "    }\n",
              "\n",
              "    .dataframe tbody tr th {\n",
              "        vertical-align: top;\n",
              "    }\n",
              "\n",
              "    .dataframe thead th {\n",
              "        text-align: right;\n",
              "    }\n",
              "</style>\n",
              "<table border=\"1\" class=\"dataframe\">\n",
              "  <thead>\n",
              "    <tr style=\"text-align: right;\">\n",
              "      <th></th>\n",
              "      <th>loan_amnt</th>\n",
              "      <th>funded_amnt</th>\n",
              "      <th>funded_amnt_inv</th>\n",
              "      <th>term</th>\n",
              "      <th>int_rate</th>\n",
              "      <th>installment</th>\n",
              "      <th>grade</th>\n",
              "      <th>emp_length</th>\n",
              "      <th>home_ownership</th>\n",
              "      <th>annual_inc</th>\n",
              "      <th>verification_status</th>\n",
              "      <th>pymnt_plan</th>\n",
              "      <th>purpose</th>\n",
              "      <th>addr_state</th>\n",
              "      <th>dti</th>\n",
              "      <th>delinq_2yrs</th>\n",
              "      <th>inq_last_6mths</th>\n",
              "      <th>mths_since_last_delinq</th>\n",
              "      <th>open_acc</th>\n",
              "      <th>pub_rec</th>\n",
              "      <th>revol_bal</th>\n",
              "      <th>revol_util</th>\n",
              "      <th>total_acc</th>\n",
              "      <th>initial_list_status</th>\n",
              "      <th>out_prncp</th>\n",
              "      <th>out_prncp_inv</th>\n",
              "      <th>total_pymnt</th>\n",
              "      <th>total_pymnt_inv</th>\n",
              "      <th>total_rec_int</th>\n",
              "      <th>last_pymnt_amnt</th>\n",
              "      <th>collections_12_mths_ex_med</th>\n",
              "      <th>policy_code</th>\n",
              "      <th>acc_now_delinq</th>\n",
              "      <th>tot_coll_amt</th>\n",
              "      <th>tot_cur_bal</th>\n",
              "      <th>total_rev_hi_lim</th>\n",
              "      <th>months_since_issue_d</th>\n",
              "      <th>months_since_earliest_cr_line</th>\n",
              "      <th>months_since_last_pymnt_d</th>\n",
              "      <th>months_since_last_credit_pull_d</th>\n",
              "    </tr>\n",
              "  </thead>\n",
              "  <tbody>\n",
              "    <tr>\n",
              "      <th>185186</th>\n",
              "      <td>12000</td>\n",
              "      <td>12000</td>\n",
              "      <td>12000.0</td>\n",
              "      <td>36</td>\n",
              "      <td>13.11</td>\n",
              "      <td>404.97</td>\n",
              "      <td>B</td>\n",
              "      <td>10.0</td>\n",
              "      <td>MORTGAGE</td>\n",
              "      <td>36000.0</td>\n",
              "      <td>Verified</td>\n",
              "      <td>n</td>\n",
              "      <td>debt_consolidation</td>\n",
              "      <td>IL</td>\n",
              "      <td>23.83</td>\n",
              "      <td>0.0</td>\n",
              "      <td>3.0</td>\n",
              "      <td>NaN</td>\n",
              "      <td>11.0</td>\n",
              "      <td>0.0</td>\n",
              "      <td>14438</td>\n",
              "      <td>40.2</td>\n",
              "      <td>18.0</td>\n",
              "      <td>f</td>\n",
              "      <td>0.00</td>\n",
              "      <td>0.00</td>\n",
              "      <td>14232.08638</td>\n",
              "      <td>14232.09</td>\n",
              "      <td>2232.09</td>\n",
              "      <td>5331.15</td>\n",
              "      <td>0.0</td>\n",
              "      <td>1</td>\n",
              "      <td>0.0</td>\n",
              "      <td>0.0</td>\n",
              "      <td>145453.0</td>\n",
              "      <td>35900.0</td>\n",
              "      <td>105.0</td>\n",
              "      <td>255.0</td>\n",
              "      <td>82.0</td>\n",
              "      <td>67.0</td>\n",
              "    </tr>\n",
              "    <tr>\n",
              "      <th>156543</th>\n",
              "      <td>10000</td>\n",
              "      <td>10000</td>\n",
              "      <td>10000.0</td>\n",
              "      <td>36</td>\n",
              "      <td>7.62</td>\n",
              "      <td>311.62</td>\n",
              "      <td>A</td>\n",
              "      <td>3.0</td>\n",
              "      <td>MORTGAGE</td>\n",
              "      <td>68500.0</td>\n",
              "      <td>Not Verified</td>\n",
              "      <td>n</td>\n",
              "      <td>credit_card</td>\n",
              "      <td>VA</td>\n",
              "      <td>9.69</td>\n",
              "      <td>0.0</td>\n",
              "      <td>0.0</td>\n",
              "      <td>NaN</td>\n",
              "      <td>10.0</td>\n",
              "      <td>0.0</td>\n",
              "      <td>15279</td>\n",
              "      <td>41.4</td>\n",
              "      <td>32.0</td>\n",
              "      <td>f</td>\n",
              "      <td>0.00</td>\n",
              "      <td>0.00</td>\n",
              "      <td>10779.05798</td>\n",
              "      <td>10779.06</td>\n",
              "      <td>779.06</td>\n",
              "      <td>6435.30</td>\n",
              "      <td>0.0</td>\n",
              "      <td>1</td>\n",
              "      <td>0.0</td>\n",
              "      <td>0.0</td>\n",
              "      <td>241715.0</td>\n",
              "      <td>36900.0</td>\n",
              "      <td>101.0</td>\n",
              "      <td>330.0</td>\n",
              "      <td>86.0</td>\n",
              "      <td>67.0</td>\n",
              "    </tr>\n",
              "    <tr>\n",
              "      <th>8458</th>\n",
              "      <td>17875</td>\n",
              "      <td>17875</td>\n",
              "      <td>17875.0</td>\n",
              "      <td>36</td>\n",
              "      <td>6.99</td>\n",
              "      <td>551.85</td>\n",
              "      <td>A</td>\n",
              "      <td>10.0</td>\n",
              "      <td>OWN</td>\n",
              "      <td>30000.0</td>\n",
              "      <td>Not Verified</td>\n",
              "      <td>n</td>\n",
              "      <td>debt_consolidation</td>\n",
              "      <td>FL</td>\n",
              "      <td>20.32</td>\n",
              "      <td>0.0</td>\n",
              "      <td>0.0</td>\n",
              "      <td>NaN</td>\n",
              "      <td>6.0</td>\n",
              "      <td>0.0</td>\n",
              "      <td>10722</td>\n",
              "      <td>23.2</td>\n",
              "      <td>15.0</td>\n",
              "      <td>f</td>\n",
              "      <td>0.00</td>\n",
              "      <td>0.00</td>\n",
              "      <td>19865.49010</td>\n",
              "      <td>19865.49</td>\n",
              "      <td>1990.49</td>\n",
              "      <td>558.86</td>\n",
              "      <td>0.0</td>\n",
              "      <td>1</td>\n",
              "      <td>0.0</td>\n",
              "      <td>NaN</td>\n",
              "      <td>NaN</td>\n",
              "      <td>NaN</td>\n",
              "      <td>119.0</td>\n",
              "      <td>343.0</td>\n",
              "      <td>83.0</td>\n",
              "      <td>67.0</td>\n",
              "    </tr>\n",
              "    <tr>\n",
              "      <th>349393</th>\n",
              "      <td>14100</td>\n",
              "      <td>14100</td>\n",
              "      <td>14100.0</td>\n",
              "      <td>36</td>\n",
              "      <td>13.98</td>\n",
              "      <td>481.77</td>\n",
              "      <td>C</td>\n",
              "      <td>10.0</td>\n",
              "      <td>MORTGAGE</td>\n",
              "      <td>49000.0</td>\n",
              "      <td>Not Verified</td>\n",
              "      <td>n</td>\n",
              "      <td>debt_consolidation</td>\n",
              "      <td>CO</td>\n",
              "      <td>20.74</td>\n",
              "      <td>1.0</td>\n",
              "      <td>1.0</td>\n",
              "      <td>16.0</td>\n",
              "      <td>11.0</td>\n",
              "      <td>0.0</td>\n",
              "      <td>10034</td>\n",
              "      <td>52.0</td>\n",
              "      <td>18.0</td>\n",
              "      <td>f</td>\n",
              "      <td>7782.22</td>\n",
              "      <td>7782.22</td>\n",
              "      <td>8671.86000</td>\n",
              "      <td>8671.86</td>\n",
              "      <td>2354.08</td>\n",
              "      <td>481.77</td>\n",
              "      <td>0.0</td>\n",
              "      <td>1</td>\n",
              "      <td>0.0</td>\n",
              "      <td>0.0</td>\n",
              "      <td>158103.0</td>\n",
              "      <td>19300.0</td>\n",
              "      <td>85.0</td>\n",
              "      <td>229.0</td>\n",
              "      <td>67.0</td>\n",
              "      <td>67.0</td>\n",
              "    </tr>\n",
              "    <tr>\n",
              "      <th>253733</th>\n",
              "      <td>35000</td>\n",
              "      <td>35000</td>\n",
              "      <td>35000.0</td>\n",
              "      <td>60</td>\n",
              "      <td>13.66</td>\n",
              "      <td>808.24</td>\n",
              "      <td>C</td>\n",
              "      <td>0.0</td>\n",
              "      <td>MORTGAGE</td>\n",
              "      <td>97000.0</td>\n",
              "      <td>Source Verified</td>\n",
              "      <td>n</td>\n",
              "      <td>debt_consolidation</td>\n",
              "      <td>FL</td>\n",
              "      <td>26.87</td>\n",
              "      <td>2.0</td>\n",
              "      <td>0.0</td>\n",
              "      <td>14.0</td>\n",
              "      <td>30.0</td>\n",
              "      <td>0.0</td>\n",
              "      <td>51403</td>\n",
              "      <td>67.3</td>\n",
              "      <td>48.0</td>\n",
              "      <td>w</td>\n",
              "      <td>28817.99</td>\n",
              "      <td>28817.99</td>\n",
              "      <td>11288.80000</td>\n",
              "      <td>11288.80</td>\n",
              "      <td>5106.79</td>\n",
              "      <td>808.24</td>\n",
              "      <td>0.0</td>\n",
              "      <td>1</td>\n",
              "      <td>0.0</td>\n",
              "      <td>0.0</td>\n",
              "      <td>298109.0</td>\n",
              "      <td>74300.0</td>\n",
              "      <td>81.0</td>\n",
              "      <td>474.0</td>\n",
              "      <td>67.0</td>\n",
              "      <td>67.0</td>\n",
              "    </tr>\n",
              "  </tbody>\n",
              "</table>\n",
              "</div>"
            ],
            "text/plain": [
              "        loan_amnt  ...  months_since_last_credit_pull_d\n",
              "185186      12000  ...                             67.0\n",
              "156543      10000  ...                             67.0\n",
              "8458        17875  ...                             67.0\n",
              "349393      14100  ...                             67.0\n",
              "253733      35000  ...                             67.0\n",
              "\n",
              "[5 rows x 40 columns]"
            ]
          },
          "metadata": {
            "tags": []
          },
          "execution_count": 42
        }
      ]
    },
    {
      "cell_type": "code",
      "metadata": {
        "colab": {
          "base_uri": "https://localhost:8080/"
        },
        "id": "3lzAiM00_6UU",
        "outputId": "6e30d1bd-eb60-4143-fed4-b38e14059c02"
      },
      "source": [
        "X_train.info()"
      ],
      "execution_count": 46,
      "outputs": [
        {
          "output_type": "stream",
          "text": [
            "<class 'pandas.core.frame.DataFrame'>\n",
            "Int64Index: 312410 entries, 185186 to 38736\n",
            "Data columns (total 40 columns):\n",
            " #   Column                           Non-Null Count   Dtype  \n",
            "---  ------                           --------------   -----  \n",
            " 0   loan_amnt                        312410 non-null  int64  \n",
            " 1   funded_amnt                      312410 non-null  int64  \n",
            " 2   funded_amnt_inv                  312410 non-null  float64\n",
            " 3   term                             312410 non-null  object \n",
            " 4   int_rate                         312410 non-null  float64\n",
            " 5   installment                      312410 non-null  float64\n",
            " 6   grade                            312410 non-null  object \n",
            " 7   emp_length                       312410 non-null  float64\n",
            " 8   home_ownership                   312410 non-null  object \n",
            " 9   annual_inc                       312408 non-null  float64\n",
            " 10  verification_status              312410 non-null  object \n",
            " 11  pymnt_plan                       312410 non-null  object \n",
            " 12  purpose                          312410 non-null  object \n",
            " 13  addr_state                       312410 non-null  object \n",
            " 14  dti                              312410 non-null  float64\n",
            " 15  delinq_2yrs                      312389 non-null  float64\n",
            " 16  inq_last_6mths                   312389 non-null  float64\n",
            " 17  mths_since_last_delinq           144667 non-null  float64\n",
            " 18  open_acc                         312389 non-null  float64\n",
            " 19  pub_rec                          312389 non-null  float64\n",
            " 20  revol_bal                        312410 non-null  int64  \n",
            " 21  revol_util                       312189 non-null  float64\n",
            " 22  total_acc                        312389 non-null  float64\n",
            " 23  initial_list_status              312410 non-null  object \n",
            " 24  out_prncp                        312410 non-null  float64\n",
            " 25  out_prncp_inv                    312410 non-null  float64\n",
            " 26  total_pymnt                      312410 non-null  float64\n",
            " 27  total_pymnt_inv                  312410 non-null  float64\n",
            " 28  total_rec_int                    312410 non-null  float64\n",
            " 29  last_pymnt_amnt                  312410 non-null  float64\n",
            " 30  collections_12_mths_ex_med       312313 non-null  float64\n",
            " 31  policy_code                      312410 non-null  int64  \n",
            " 32  acc_now_delinq                   312389 non-null  float64\n",
            " 33  tot_coll_amt                     265312 non-null  float64\n",
            " 34  tot_cur_bal                      265312 non-null  float64\n",
            " 35  total_rev_hi_lim                 265312 non-null  float64\n",
            " 36  months_since_issue_d             312410 non-null  float64\n",
            " 37  months_since_earliest_cr_line    312389 non-null  float64\n",
            " 38  months_since_last_pymnt_d        312147 non-null  float64\n",
            " 39  months_since_last_credit_pull_d  312386 non-null  float64\n",
            "dtypes: float64(28), int64(4), object(8)\n",
            "memory usage: 97.7+ MB\n"
          ],
          "name": "stdout"
        }
      ]
    },
    {
      "cell_type": "code",
      "metadata": {
        "colab": {
          "base_uri": "https://localhost:8080/"
        },
        "id": "B6s6MoWsBcsf",
        "outputId": "a9be29dd-baf7-4d0e-892b-b83deb43b771"
      },
      "source": [
        "for col in X_train.columns :\n",
        "  if X_train[col].dtype == \"object\" :\n",
        "    unique = pd.unique(X_train[col])\n",
        "    if 2 < len(unique) < 15 :\n",
        "      print(\"column \" + col + \" has \" +str(len(unique)) + \" unique values and they are :\\n \" + str(unique))\n",
        "    else :\n",
        "      print(col + ' has ' + str(len(unique)) + \" values\")"
      ],
      "execution_count": 58,
      "outputs": [
        {
          "output_type": "stream",
          "text": [
            "term has 2 values\n",
            "column grade has 7 unique values and they are :\n",
            " ['B' 'A' 'C' 'E' 'D' 'G' 'F']\n",
            "column home_ownership has 5 unique values and they are :\n",
            " ['MORTGAGE' 'OWN' 'RENT' 'OTHER' 'NONE']\n",
            "column verification_status has 3 unique values and they are :\n",
            " ['Verified' 'Not Verified' 'Source Verified']\n",
            "pymnt_plan has 2 values\n",
            "column purpose has 14 unique values and they are :\n",
            " ['debt_consolidation' 'credit_card' 'home_improvement' 'major_purchase'\n",
            " 'other' 'moving' 'small_business' 'car' 'house' 'medical' 'vacation'\n",
            " 'wedding' 'educational' 'renewable_energy']\n",
            "addr_state has 50 values\n",
            "initial_list_status has 2 values\n"
          ],
          "name": "stdout"
        }
      ]
    },
    {
      "cell_type": "markdown",
      "metadata": {
        "id": "7RHCnj52GG6h"
      },
      "source": [
        "#Feature Selection"
      ]
    },
    {
      "cell_type": "markdown",
      "metadata": {
        "id": "rBhvJ29ZGV5u"
      },
      "source": [
        "$\\text{We will perform chi-squared test for categorical features and ANOVA F-statistic for numeric features, For selecting most suitable features from the datasets}$"
      ]
    },
    {
      "cell_type": "markdown",
      "metadata": {
        "id": "3FzFaq6PHd6O"
      },
      "source": [
        "$\\text{For performing the above mention tests on data we will separate the categorical features from numeric features.}$"
      ]
    },
    {
      "cell_type": "code",
      "metadata": {
        "id": "34slkPf5B72m"
      },
      "source": [
        "X_train_obj = X_train.select_dtypes(include= 'object').copy() #creating copy so that original data is not harmed\n",
        "X_train_num = X_train.select_dtypes(include='number').copy() #creating copy so that original data is not harmed"
      ],
      "execution_count": 63,
      "outputs": []
    },
    {
      "cell_type": "code",
      "metadata": {
        "id": "g-gzTnU_IygA"
      },
      "source": [
        "from sklearn.feature_selection import f_classif #to perform ANOVA F-statistic\n",
        "from scipy.stats import chi2_contingency #to perform chi-square test"
      ],
      "execution_count": 59,
      "outputs": []
    },
    {
      "cell_type": "code",
      "metadata": {
        "colab": {
          "base_uri": "https://localhost:8080/",
          "height": 35
        },
        "id": "bJMN90rcJAKt",
        "outputId": "4c341218-bf7e-43a7-bd17-239166513a31"
      },
      "source": [
        "def chi_test(data) :\n",
        "  \"\"\" Perform chi-square test for data \"\"\"\n",
        "\n",
        "  chi_test = {} #to store p value of each feature\n",
        "\n",
        "  for col in X_train_obj.columns :\n",
        "    chi2 , p , dos , exp_freq = chi2_contingency(pd.crosstab(Y_train , X_train_obj[col])) \n",
        "    #crosstab gives frequency table of given factors by cross tabulation\n",
        "    #chi2_contingency returns 4 values i.e. chi2 : test statistic , p : p alue of test , dof : degree of freedom , exp_freq : expected frequency\n",
        "    chi_test.setdefault('feature',[]).append(col)\n",
        "    chi_test.setdefault('p-value',[]).append(round(p,5))\n",
        "    results = pd.DataFrame()\n",
        "  return chi_test\n",
        "\n"
      ],
      "execution_count": 75,
      "outputs": [
        {
          "output_type": "execute_result",
          "data": {
            "application/vnd.google.colaboratory.intrinsic+json": {
              "type": "string"
            },
            "text/plain": [
              "' Perform chi-square test for data '"
            ]
          },
          "metadata": {
            "tags": []
          },
          "execution_count": 75
        }
      ]
    },
    {
      "cell_type": "code",
      "metadata": {
        "id": "S0syZtuAMrco"
      },
      "source": [
        ""
      ],
      "execution_count": null,
      "outputs": []
    }
  ]
}